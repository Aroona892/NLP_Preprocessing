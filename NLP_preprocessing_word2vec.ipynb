{
  "nbformat": 4,
  "nbformat_minor": 0,
  "metadata": {
    "colab": {
      "provenance": []
    },
    "kernelspec": {
      "name": "python3",
      "display_name": "Python 3"
    },
    "language_info": {
      "name": "python"
    }
  },
  "cells": [
    {
      "cell_type": "code",
      "execution_count": null,
      "metadata": {
        "id": "X7SiAjeAzgZE"
      },
      "outputs": [],
      "source": []
    },
    {
      "cell_type": "markdown",
      "source": [],
      "metadata": {
        "id": "lQECgZd606kN"
      }
    },
    {
      "cell_type": "markdown",
      "source": [
        "# NLP\n",
        "NLP stands for Natural Language Processing. It is the branch of Artificial Intelligence that gives the ability to machine understand and process human languages. Human languages can be in the form of text or audio format.\n",
        "\n",
        "# What is text pre-processing?\n",
        "\n",
        "Text pre-processing is the process of transforming unstructured text to structured text to prepare it for analysis.\n",
        "\n",
        "When you pre-process text before feeding it to algorithms, you increase the accuracy and efficiency of said algorithms by removing noise and other inconsistencies in the text that can make it hard for the computer to understand.\n",
        "\n",
        "Making the text easier to understand also helps to reduce the time and resources required for the computer to pre-process data.\n",
        "\n",
        "Processes involved in text pre-processing\n",
        "To properly pre-process your text and get it in the right state to perform further analysis and actions with it, there are quite a few operations that need to be done on the text and a couple of steps to be followed to get a well structured text.\n",
        "\n",
        "#Tokenization\n",
        "Tokenization is the first stage of the process.\n",
        "\n",
        "Here your text is analysed and then broken down into chunks called ‘tokens’ which can either be words or phrases. This allows the computer to work on your text token by token rather than working on the entire text in the following stages.\n",
        "\n",
        "The two main types of tokenisation are word and sentence tokenisation.\n",
        "\n",
        "Word tokenisation is the most common kind of tokenisation.\n",
        "\n",
        "Here, each token is a word, meaning the algorithm breaks down the entire text into individual words:"
      ],
      "metadata": {
        "id": "-1pkvB5V07zy"
      }
    },
    {
      "cell_type": "code",
      "source": [],
      "metadata": {
        "id": "BoIDLMKk5b8F"
      },
      "execution_count": null,
      "outputs": []
    },
    {
      "cell_type": "code",
      "source": [
        "text = 'Wisdoms daughter walks alone. The mark of Athena burns through rome'\n",
        "\n",
        "words = text.split()\n",
        "print(words)"
      ],
      "metadata": {
        "colab": {
          "base_uri": "https://localhost:8080/"
        },
        "id": "UqrGhNKk2AB5",
        "outputId": "588e8df2-dcc2-4625-a815-dcd048b83bec"
      },
      "execution_count": null,
      "outputs": [
        {
          "output_type": "stream",
          "name": "stdout",
          "text": [
            "['Wisdoms', 'daughter', 'walks', 'alone.', 'The', 'mark', 'of', 'Athena', 'burns', 'through', 'rome']\n"
          ]
        }
      ]
    },
    {
      "cell_type": "markdown",
      "source": [
        "On the other hand, sentence tokenisation breaks down text into sentences instead of words. It is a less common type of tokenisation only used in few Natural Language Processing (NLP) tasks.\n",
        "\n",
        "# Case normalisation\n",
        "\n",
        "This technique converts all the letters in your text to a single case, either uppercase or lowercase.\n",
        "\n",
        "Case normalisation ensures that your data is stored in a consistent format and makes it easier to work with the data."
      ],
      "metadata": {
        "id": "3sH4R1sa2I-0"
      }
    },
    {
      "cell_type": "code",
      "source": [
        "text = \"'To Sleep Or NOT to SLEep, THAT is THe Question'\"\n",
        "\n",
        "def lower_case(text):\n",
        "    text = text.lower()\n",
        "    return text\n",
        "\n",
        "lower_case = lower_case(text)#converts everthing to lowercase\n",
        "print(lower_case)\n"
      ],
      "metadata": {
        "colab": {
          "base_uri": "https://localhost:8080/"
        },
        "id": "reCcu6Xn2YU3",
        "outputId": "26df145a-b574-4672-f9c6-ebee639c439c"
      },
      "execution_count": null,
      "outputs": [
        {
          "output_type": "stream",
          "name": "stdout",
          "text": [
            "'to sleep or not to sleep, that is the question'\n"
          ]
        }
      ]
    },
    {
      "cell_type": "markdown",
      "source": [
        "# Stemming\n",
        "Stemming words like coding, coder, and coded all have the same base word which is code.\n",
        "\n",
        "ML models most-often-than-not understand that these words are all derived from one base word. They can work with your text without the tenses, prefixes, and suffixes that we as humans would normally need to make sense of it.\n",
        "\n",
        "Stemming your texts not only helps to reduce the number of words the model has to work with, and by extension improves the efficiency of the model.\n",
        "\n"
      ],
      "metadata": {
        "id": "s7QAsfjk3hvT"
      }
    },
    {
      "cell_type": "code",
      "source": [
        "from nltk.stem import PorterStemmer\n",
        "\n",
        "# Initialize the stemmer\n",
        "stemmer = PorterStemmer()\n",
        "\n",
        "# Example text\n",
        "text = \"She enjoys coding, coded many projects, and is a skilled coder.\"\n",
        "\n",
        "# Tokenize and stem each word\n",
        "stemmed_words = [stemmer.stem(word) for word in text.split()]\n",
        "\n",
        "print(\"Stemmed Words:\", stemmed_words)\n"
      ],
      "metadata": {
        "colab": {
          "base_uri": "https://localhost:8080/"
        },
        "id": "JaMHc4NF3ke0",
        "outputId": "01dc3bb8-5bdb-4607-cf97-8d1810a718d7"
      },
      "execution_count": null,
      "outputs": [
        {
          "output_type": "stream",
          "name": "stdout",
          "text": [
            "Stemmed Words: ['she', 'enjoy', 'coding,', 'code', 'mani', 'projects,', 'and', 'is', 'a', 'skill', 'coder.']\n"
          ]
        }
      ]
    },
    {
      "cell_type": "markdown",
      "source": [
        "# Lemmatisation\n",
        "This method is very similar to stemming in that it is also used to identify the base of words. It is however a more complex and accurate technique than stemming.\n",
        "\n",
        "Lemmatization, unlike stemming, reduces words to their base or dictionary form (lemma), ensuring the root word remains meaningful."
      ],
      "metadata": {
        "id": "H3PI3ak_3k7-"
      }
    },
    {
      "cell_type": "code",
      "source": [
        "import nltk\n",
        "\n",
        "# Download required NLTK data, like WordNet and others\n",
        "nltk.download('wordnet')\n",
        "nltk.download('omw-1.4')  # Optional, for enhanced language support\n",
        "nltk.download('punkt')     # If you need tokenizers\n",
        "from nltk.stem import WordNetLemmatizer\n",
        "\n",
        "# Initialize the lemmatizer\n",
        "lemmatizer = WordNetLemmatizer()\n",
        "\n",
        "# Example text\n",
        "text = \"She enjoys coding, coded many projects, and is a skilled coder.\"\n",
        "\n",
        "# Tokenize and lemmatize each word\n",
        "lemmatized_words = [lemmatizer.lemmatize(word, pos=\"v\") for word in text.split()]\n",
        "\n",
        "print(\"Lemmatized Words:\", lemmatized_words)\n"
      ],
      "metadata": {
        "colab": {
          "base_uri": "https://localhost:8080/"
        },
        "id": "SdNtVUux30UY",
        "outputId": "604970fe-d276-427c-8640-6e396ede3f01"
      },
      "execution_count": null,
      "outputs": [
        {
          "output_type": "stream",
          "name": "stderr",
          "text": [
            "[nltk_data] Downloading package wordnet to /root/nltk_data...\n",
            "[nltk_data] Downloading package omw-1.4 to /root/nltk_data...\n",
            "[nltk_data] Downloading package punkt to /root/nltk_data...\n",
            "[nltk_data]   Unzipping tokenizers/punkt.zip.\n"
          ]
        },
        {
          "output_type": "stream",
          "name": "stdout",
          "text": [
            "Lemmatized Words: ['She', 'enjoy', 'coding,', 'cod', 'many', 'projects,', 'and', 'be', 'a', 'skilled', 'coder.']\n"
          ]
        }
      ]
    },
    {
      "cell_type": "markdown",
      "source": [
        "# Punctuation removal\n",
        "\n",
        "During human conversations, punctuation marks like `‘’, ! , [, }, *, #, /, ?, and ‘’` are incredibly relevant and necessary to have a proper conversation. Thelp to fully convey the message of the writer."
      ],
      "metadata": {
        "id": "XgOiT66I2eqH"
      }
    },
    {
      "cell_type": "code",
      "source": [
        "import re\n",
        "\n",
        "text = ' (to love is to destroy, and to be loved, is to be \"the\" one <destroyed>} '\n",
        "\n",
        "def remove_punctuations(text):\n",
        "    punctuation = re.compile(r'[{};():,.\"/<>-]')\n",
        "    text = punctuation.sub(' ', text)\n",
        "    return text\n",
        "\n",
        "clean_text = remove_punctuations(text)\n",
        "print(clean_text)"
      ],
      "metadata": {
        "colab": {
          "base_uri": "https://localhost:8080/"
        },
        "id": "bWEm1LZF2hto",
        "outputId": "2d5ace31-f0dc-4f86-8ca2-de414e31ef5c"
      },
      "execution_count": null,
      "outputs": [
        {
          "output_type": "stream",
          "name": "stdout",
          "text": [
            "  to love is to destroy  and to be loved  is to be  the  one  destroyed   \n"
          ]
        }
      ]
    },
    {
      "cell_type": "markdown",
      "source": [
        "# Accent removal\n",
        "This process is about removing language specific character symbols from text.\n",
        "\n",
        "Some characters are written with specific accents or symbols to either imply a different pronunciation or to signify that words containing such accented texts have a different meaning."
      ],
      "metadata": {
        "id": "vi5c8u5i3AQn"
      }
    },
    {
      "cell_type": "code",
      "source": [
        "import re\n",
        "\n",
        "text = \"her fiancé's résumé is beautiful\"\n",
        "\n",
        "def remove_accents(text):\n",
        "    accents = re.compile(u\"[\\u0300-\\u036F]|é|è\")\n",
        "    text = accents.sub(u\"e\", text)\n",
        "    return text\n",
        "\n",
        "cleaned_text = remove_accents(text)\n",
        "print(cleaned_text)"
      ],
      "metadata": {
        "colab": {
          "base_uri": "https://localhost:8080/"
        },
        "id": "ok_mUmUf3DyG",
        "outputId": "2701db97-1a96-460f-eabf-fa1727af3fca"
      },
      "execution_count": null,
      "outputs": [
        {
          "output_type": "stream",
          "name": "stdout",
          "text": [
            "her fiance's resume is beautiful\n"
          ]
        }
      ]
    },
    {
      "cell_type": "markdown",
      "source": [
        "# Lab Tasks\n",
        "### **Note** you will perform all the task using dataset.txt file\n",
        "\n",
        "# Task 1 Read the Dataset from a File:\n",
        "In this task you will read the dataset from a text file (dataset.txt)."
      ],
      "metadata": {
        "id": "vWopYLM3t12m"
      }
    },
    {
      "cell_type": "code",
      "source": [],
      "metadata": {
        "colab": {
          "base_uri": "https://localhost:8080/"
        },
        "id": "4bow6L7utxaV",
        "outputId": "51cf04d7-20aa-43f3-e0c6-0f783c8064ad"
      },
      "execution_count": null,
      "outputs": [
        {
          "output_type": "stream",
          "name": "stdout",
          "text": [
            "['The car is driven on the road.\\n', 'The truck is parked in the lot.\\n', 'This pasta is delicious and affordable.\\n', 'I enjoy coding in Python.\\n', 'Artificial Intelligence is transforming industries.\\n', 'The weather is sunny today.\\n', 'She loves reading books.\\n', 'The cake tastes amazing.\\n', 'Learning new things every day is fulfilling.\\n', 'The sky is clear and blue.\\n', 'The dog chased the cat around the yard.\\n', 'He is studying for his final exams.\\n', 'The phone battery is running low.\\n', 'Nature has a calming effect on the mind.\\n', 'The coffee is too hot to drink right now.\\n', 'She enjoys painting landscapes in her free time.\\n', 'The train arrived at the station early.\\n', 'He is preparing a presentation for work.\\n', 'I am excited about the upcoming event.\\n', 'The movie was thrilling and full of suspense.\\n', 'Running in the park is a great way to start the day.\\n', 'The artist painted a beautiful portrait of the woman.\\n', 'She is learning French in her spare time.\\n', 'The garden is blooming with colorful flowers.\\n', 'The bird sang a melodious tune in the morning.\\n', 'The conference is scheduled for next week.\\n', 'He is working on a new programming project.\\n', 'The soup is warm and comforting on a cold day.\\n', 'The tree swayed gently in the breeze.\\n', 'She is practicing yoga to improve her flexibility.\\n', 'The car needs a wash after the long road trip.\\n', 'He is reading a mystery novel that he finds intriguing.\\n', 'The sunset over the ocean was breathtaking.\\n', 'She is studying the behavior of marine animals.\\n', 'The bakery sells freshly baked bread every morning.\\n', 'He is organizing a charity event to help the community.\\n', 'The restaurant serves a variety of international cuisines.\\n', 'She is learning to play the guitar in her free time.\\n', 'The mountain view from the cabin is stunning.\\n', 'He is training for the marathon next month.\\n', 'The river flows peacefully through the valley.\\n', 'The city is known for its vibrant nightlife.\\n', 'She is baking cookies for the neighborhood children.\\n', 'The garden is filled with the fragrance of roses.\\n', 'The coffee shop is always crowded in the mornings.\\n', 'The wind is howling through the trees on this stormy night.\\n', 'The music festival attracted people from all over the country.\\n', 'The airplane is flying at an altitude of 30,000 feet.\\n', 'She is writing a book about her travel experiences.\\n', 'The road trip to the mountains was filled with adventure.\\n', 'He is building a new deck for his backyard.\\n', 'The software update fixed several bugs in the system.\\n', 'The library is quiet and perfect for studying.\\n', 'She is volunteering at the animal shelter on weekends.\\n', 'The beach is a popular destination during the summer.\\n', 'He is assembling a model airplane in his workshop.\\n', 'The chef prepared a gourmet meal for the guests.\\n', 'The sunrise over the hills was spectacular.\\n', 'She is planning a surprise party for her best friend.\\n', 'The museum exhibits ancient artifacts from various cultures.\\n', 'The forest is home to a diverse range of wildlife.\\n', 'The students are preparing for the upcoming exams.\\n', 'The car engine needs a tune-up to run smoothly.\\n', 'She is knitting a scarf for the winter season.\\n', 'The project deadline is approaching fast.\\n', 'The dog is barking loudly at the passing car.\\n', 'He is building a robot for the science fair.\\n', 'The flowers in the garden are in full bloom.\\n', 'She is exploring new career opportunities in the tech industry.\\n', 'The concert was an unforgettable experience.\\n', 'The computer crashed and lost all the unsaved work.\\n', 'The marathon runners are pushing their limits to the finish line.\\n', 'The bakery is known for its delicious pastries.\\n', 'She is organizing a charity auction for a good cause.\\n', 'The stars in the night sky were shining brightly.\\n', 'He is renovating his house to create more space.\\n', 'The team is working hard to meet the project deadline.\\n', 'The coffee machine is broken and needs to be repaired.\\n', 'The bicycle ride through the countryside was refreshing.\\n', 'The bookstore offers a wide selection of novels and non-fiction.\\n', \"She is preparing a presentation for her company's board meeting.\\n\", 'The rain is pouring down heavily on the roof.\\n', 'The piano recital was a success, and the audience applauded.\\n', 'The drone captured stunning aerial footage of the landscape.\\n', 'He is designing a website for his new business.\\n', 'The holiday season is a time for family gatherings and celebrations.\\n', 'The train journey through the mountains was breathtaking.\\n', 'She is learning to code in Python to enhance her skills.\\n', 'The smartphone app has many useful features.\\n', 'The festival featured music, food, and cultural performances.\\n', 'The wildlife photographer captured rare images of the animals.\\n', 'He is saving money for his dream vacation.\\n', 'The waves crashed against the shore during the storm.\\n', 'The theater was packed for the opening night of the play.\\n', \"She is baking a cake for her sister's birthday.\\n\", 'The airplane landed safely despite the turbulence.\\n', 'The garden is a peaceful retreat from the busy city.\\n', 'He is practicing his presentation for the upcoming meeting.\\n', 'The store is offering a discount on all electronics this weekend.\\n', 'The city park is a great place for a picnic.\\n', 'The football team is preparing for the championship game.\\n', 'She is writing a blog about her experiences as a digital nomad.\\n', 'The sun is setting behind the mountains, casting a golden glow.\\n', 'He is painting the walls of his living room a bright color.\\n', 'The yoga class helped her feel relaxed and rejuvenated.\\n', 'The construction workers are building a new skyscraper downtown.\\n', 'The new restaurant in town is getting rave reviews.\\n', 'She is organizing a community cleanup event in her neighborhood.\\n', 'The train station is bustling with commuters during rush hour.\\n', 'He is studying the effects of climate change on polar ice caps.\\n', 'The book he is reading is a science fiction novel about space travel.\\n', 'The garden is full of butterflies and bees.\\n', 'She is practicing for her upcoming piano recital.\\n', 'The technology conference attracted attendees from around the world.\\n', 'He is upgrading his computer with the latest hardware components.\\n', 'The beach is a perfect place to relax and unwind.\\n', 'She is volunteering at the food bank to help those in need.\\n', 'The mountain trail offers breathtaking views of the surrounding landscape.\\n', 'The new software release includes several improvements and features.\\n', 'The stars are visible in the clear night sky.\\n', 'He is working on a new app that tracks fitness goals.\\n', 'The library is hosting a workshop on creative writing.\\n', 'She is planning a road trip with her friends next month.\\n', 'The farmer is planting crops for the upcoming harvest season.\\n', 'The waterfall cascades down the rocky cliff into the river below.\\n', 'The museum is showcasing a collection of modern art pieces.\\n', \"He is preparing a speech for his cousin's wedding.\\n\", 'The sunset over the ocean was a beautiful end to the day.\\n', 'The new movie is getting positive reviews from critics.\\n', 'She is decorating her home for the holiday season.\\n', 'The soccer match was thrilling, with both teams playing their best.\\n', 'He is learning a new programming language for his job.\\n', 'The bakery smells of freshly baked bread and pastries.\\n', 'The river is flowing swiftly after the heavy rain.\\n', 'She is writing a poem about the changing seasons.\\n', 'The airplane took off smoothly and reached cruising altitude quickly.\\n', 'The park is filled with children playing on the swings and slides.\\n', 'He is planning to start his own business next year.\\n', 'The coffee shop has a cozy atmosphere, perfect for reading a book.\\n', 'The wildlife reserve is home to many endangered species.\\n', 'She is sewing a quilt as a gift for her grandmother.\\n', 'The car broke down on the way to the airport.\\n', 'The team is brainstorming ideas for the new project.\\n', 'The dog is wagging its tail happily as it runs in the yard.\\n', 'She is learning to play the piano with the help of a tutor.\\n', 'The restaurant serves delicious homemade pasta.\\n', 'He is building a treehouse for his children in the backyard.\\n', 'The sun is shining brightly on this warm summer day.\\n', 'She is packing her suitcase for her upcoming vacation.\\n', 'The bookstore is having a sale on all hardcover books.\\n', 'The garden is filled with the scent of blooming flowers.\\n', 'He is organizing his office to make it more efficient.\\n', 'The movie was so exciting that everyone in the audience was on edge.\\n', 'The chef is experimenting with new recipes for the menu.\\n', 'She is taking a photography class to improve her skills.\\n', 'The train is running late due to the heavy rain.\\n', 'He is repairing the roof of his house after the storm.\\n', 'The yoga class focuses on breathing techniques and relaxation.\\n', 'The city skyline is breathtaking at night with all the lights.\\n', 'She is writing a novel about her travels around the world.\\n', 'The football team won the championship game in a thrilling finish.\\n', 'He is studying the history of ancient civilizations for his research paper.\\n', 'The beach is crowded with people enjoying the sunny weather.\\n', 'She is knitting a sweater for her newborn niece.\\n', 'The car dealership is offering discounts on all new models.\\n', 'He is designing a new logo for his company.\\n', 'The weather forecast predicts snow for the weekend.\\n', 'The library is quiet, a perfect place to study.\\n', 'She is taking dance lessons to prepare for her wedding.\\n', 'The construction of the new bridge is ahead of schedule.\\n', 'The movie premiere was attended by many famous celebrities.\\n', 'He is training for a triathlon that includes swimming, cycling, and running.\\n', 'The art gallery is displaying a collection of abstract paintings.\\n', 'She is planting flowers in her garden to attract butterflies.\\n', 'The airplane is flying over the mountains on its way to the destination.\\n', 'He is learning to play the guitar by watching online tutorials.\\n']\n"
          ]
        }
      ]
    },
    {
      "cell_type": "code",
      "source": [
        "with open('datset.txt', 'r') as f:\n",
        "    text = f.read()\n",
        "    print(text)"
      ],
      "metadata": {
        "id": "h3xB_lqcuUGm",
        "outputId": "3ee0a965-c5e7-4d66-d136-7d73de271009",
        "colab": {
          "base_uri": "https://localhost:8080/"
        }
      },
      "execution_count": null,
      "outputs": [
        {
          "output_type": "stream",
          "name": "stdout",
          "text": [
            "The car is driven on the road.\n",
            "The truck is parked in the lot.\n",
            "This pasta is delicious and affordable.\n",
            "I enjoy coding in Python.\n",
            "Artificial Intelligence is transforming industries.\n",
            "The weather is sunny today.\n",
            "She loves reading books.\n",
            "The cake tastes amazing.\n",
            "Learning new things every day is fulfilling.\n",
            "The sky is clear and blue.\n",
            "The dog chased the cat around the yard.\n",
            "He is studying for his final exams.\n",
            "The phone battery is running low.\n",
            "Nature has a calming effect on the mind.\n",
            "The coffee is too hot to drink right now.\n",
            "She enjoys painting landscapes in her free time.\n",
            "The train arrived at the station early.\n",
            "He is preparing a presentation for work.\n",
            "I am excited about the upcoming event.\n",
            "The movie was thrilling and full of suspense.\n",
            "Running in the park is a great way to start the day.\n",
            "The artist painted a beautiful portrait of the woman.\n",
            "She is learning French in her spare time.\n",
            "The garden is blooming with colorful flowers.\n",
            "The bird sang a melodious tune in the morning.\n",
            "The conference is scheduled for next week.\n",
            "He is working on a new programming project.\n",
            "The soup is warm and comforting on a cold day.\n",
            "The tree swayed gently in the breeze.\n",
            "She is practicing yoga to improve her flexibility.\n",
            "The car needs a wash after the long road trip.\n",
            "He is reading a mystery novel that he finds intriguing.\n",
            "The sunset over the ocean was breathtaking.\n",
            "She is studying the behavior of marine animals.\n",
            "The bakery sells freshly baked bread every morning.\n",
            "He is organizing a charity event to help the community.\n",
            "The restaurant serves a variety of international cuisines.\n",
            "She is learning to play the guitar in her free time.\n",
            "The mountain view from the cabin is stunning.\n",
            "He is training for the marathon next month.\n",
            "The river flows peacefully through the valley.\n",
            "The city is known for its vibrant nightlife.\n",
            "She is baking cookies for the neighborhood children.\n",
            "The garden is filled with the fragrance of roses.\n",
            "The coffee shop is always crowded in the mornings.\n",
            "The wind is howling through the trees on this stormy night.\n",
            "The music festival attracted people from all over the country.\n",
            "The airplane is flying at an altitude of 30,000 feet.\n",
            "She is writing a book about her travel experiences.\n",
            "The road trip to the mountains was filled with adventure.\n",
            "He is building a new deck for his backyard.\n",
            "The software update fixed several bugs in the system.\n",
            "The library is quiet and perfect for studying.\n",
            "She is volunteering at the animal shelter on weekends.\n",
            "The beach is a popular destination during the summer.\n",
            "He is assembling a model airplane in his workshop.\n",
            "The chef prepared a gourmet meal for the guests.\n",
            "The sunrise over the hills was spectacular.\n",
            "She is planning a surprise party for her best friend.\n",
            "The museum exhibits ancient artifacts from various cultures.\n",
            "The forest is home to a diverse range of wildlife.\n",
            "The students are preparing for the upcoming exams.\n",
            "The car engine needs a tune-up to run smoothly.\n",
            "She is knitting a scarf for the winter season.\n",
            "The project deadline is approaching fast.\n",
            "The dog is barking loudly at the passing car.\n",
            "He is building a robot for the science fair.\n",
            "The flowers in the garden are in full bloom.\n",
            "She is exploring new career opportunities in the tech industry.\n",
            "The concert was an unforgettable experience.\n",
            "The computer crashed and lost all the unsaved work.\n",
            "The marathon runners are pushing their limits to the finish line.\n",
            "The bakery is known for its delicious pastries.\n",
            "She is organizing a charity auction for a good cause.\n",
            "The stars in the night sky were shining brightly.\n",
            "He is renovating his house to create more space.\n",
            "The team is working hard to meet the project deadline.\n",
            "The coffee machine is broken and needs to be repaired.\n",
            "The bicycle ride through the countryside was refreshing.\n",
            "The bookstore offers a wide selection of novels and non-fiction.\n",
            "She is preparing a presentation for her company's board meeting.\n",
            "The rain is pouring down heavily on the roof.\n",
            "The piano recital was a success, and the audience applauded.\n",
            "The drone captured stunning aerial footage of the landscape.\n",
            "He is designing a website for his new business.\n",
            "The holiday season is a time for family gatherings and celebrations.\n",
            "The train journey through the mountains was breathtaking.\n",
            "She is learning to code in Python to enhance her skills.\n",
            "The smartphone app has many useful features.\n",
            "The festival featured music, food, and cultural performances.\n",
            "The wildlife photographer captured rare images of the animals.\n",
            "He is saving money for his dream vacation.\n",
            "The waves crashed against the shore during the storm.\n",
            "The theater was packed for the opening night of the play.\n",
            "She is baking a cake for her sister's birthday.\n",
            "The airplane landed safely despite the turbulence.\n",
            "The garden is a peaceful retreat from the busy city.\n",
            "He is practicing his presentation for the upcoming meeting.\n",
            "The store is offering a discount on all electronics this weekend.\n",
            "The city park is a great place for a picnic.\n",
            "The football team is preparing for the championship game.\n",
            "She is writing a blog about her experiences as a digital nomad.\n",
            "The sun is setting behind the mountains, casting a golden glow.\n",
            "He is painting the walls of his living room a bright color.\n",
            "The yoga class helped her feel relaxed and rejuvenated.\n",
            "The construction workers are building a new skyscraper downtown.\n",
            "The new restaurant in town is getting rave reviews.\n",
            "She is organizing a community cleanup event in her neighborhood.\n",
            "The train station is bustling with commuters during rush hour.\n",
            "He is studying the effects of climate change on polar ice caps.\n",
            "The book he is reading is a science fiction novel about space travel.\n",
            "The garden is full of butterflies and bees.\n",
            "She is practicing for her upcoming piano recital.\n",
            "The technology conference attracted attendees from around the world.\n",
            "He is upgrading his computer with the latest hardware components.\n",
            "The beach is a perfect place to relax and unwind.\n",
            "She is volunteering at the food bank to help those in need.\n",
            "The mountain trail offers breathtaking views of the surrounding landscape.\n",
            "The new software release includes several improvements and features.\n",
            "The stars are visible in the clear night sky.\n",
            "He is working on a new app that tracks fitness goals.\n",
            "The library is hosting a workshop on creative writing.\n",
            "She is planning a road trip with her friends next month.\n",
            "The farmer is planting crops for the upcoming harvest season.\n",
            "The waterfall cascades down the rocky cliff into the river below.\n",
            "The museum is showcasing a collection of modern art pieces.\n",
            "He is preparing a speech for his cousin's wedding.\n",
            "The sunset over the ocean was a beautiful end to the day.\n",
            "The new movie is getting positive reviews from critics.\n",
            "She is decorating her home for the holiday season.\n",
            "The soccer match was thrilling, with both teams playing their best.\n",
            "He is learning a new programming language for his job.\n",
            "The bakery smells of freshly baked bread and pastries.\n",
            "The river is flowing swiftly after the heavy rain.\n",
            "She is writing a poem about the changing seasons.\n",
            "The airplane took off smoothly and reached cruising altitude quickly.\n",
            "The park is filled with children playing on the swings and slides.\n",
            "He is planning to start his own business next year.\n",
            "The coffee shop has a cozy atmosphere, perfect for reading a book.\n",
            "The wildlife reserve is home to many endangered species.\n",
            "She is sewing a quilt as a gift for her grandmother.\n",
            "The car broke down on the way to the airport.\n",
            "The team is brainstorming ideas for the new project.\n",
            "The dog is wagging its tail happily as it runs in the yard.\n",
            "She is learning to play the piano with the help of a tutor.\n",
            "The restaurant serves delicious homemade pasta.\n",
            "He is building a treehouse for his children in the backyard.\n",
            "The sun is shining brightly on this warm summer day.\n",
            "She is packing her suitcase for her upcoming vacation.\n",
            "The bookstore is having a sale on all hardcover books.\n",
            "The garden is filled with the scent of blooming flowers.\n",
            "He is organizing his office to make it more efficient.\n",
            "The movie was so exciting that everyone in the audience was on edge.\n",
            "The chef is experimenting with new recipes for the menu.\n",
            "She is taking a photography class to improve her skills.\n",
            "The train is running late due to the heavy rain.\n",
            "He is repairing the roof of his house after the storm.\n",
            "The yoga class focuses on breathing techniques and relaxation.\n",
            "The city skyline is breathtaking at night with all the lights.\n",
            "She is writing a novel about her travels around the world.\n",
            "The football team won the championship game in a thrilling finish.\n",
            "He is studying the history of ancient civilizations for his research paper.\n",
            "The beach is crowded with people enjoying the sunny weather.\n",
            "She is knitting a sweater for her newborn niece.\n",
            "The car dealership is offering discounts on all new models.\n",
            "He is designing a new logo for his company.\n",
            "The weather forecast predicts snow for the weekend.\n",
            "The library is quiet, a perfect place to study.\n",
            "She is taking dance lessons to prepare for her wedding.\n",
            "The construction of the new bridge is ahead of schedule.\n",
            "The movie premiere was attended by many famous celebrities.\n",
            "He is training for a triathlon that includes swimming, cycling, and running.\n",
            "The art gallery is displaying a collection of abstract paintings.\n",
            "She is planting flowers in her garden to attract butterflies.\n",
            "The airplane is flying over the mountains on its way to the destination.\n",
            "He is learning to play the guitar by watching online tutorials.\n",
            "\n"
          ]
        }
      ]
    },
    {
      "cell_type": "markdown",
      "source": [],
      "metadata": {
        "id": "YaaE1oSKtw1h"
      }
    },
    {
      "cell_type": "markdown",
      "source": [
        "# Task 2: Text Pre-processing and Tokenization\n",
        "Given a document, perform text cleaning (remove HTML tags, emojis, and special characters), convert text to lowercase, and then tokenize it into words.\n"
      ],
      "metadata": {
        "id": "Q-ewHJVIpTa7"
      }
    },
    {
      "cell_type": "code",
      "source": [
        "def lower_case(text):\n",
        "    text = text.lower()\n",
        "    return text\n",
        "\n",
        "lower_case = lower_case(text)\n",
        "words = lower_case.split()\n",
        "print(words)"
      ],
      "metadata": {
        "id": "aVuUbiCdthaN",
        "outputId": "24f1618f-377e-42d7-d9ad-479506b78b7b",
        "colab": {
          "base_uri": "https://localhost:8080/"
        }
      },
      "execution_count": null,
      "outputs": [
        {
          "output_type": "stream",
          "name": "stdout",
          "text": [
            "['the', 'car', 'is', 'driven', 'on', 'the', 'road.', 'the', 'truck', 'is', 'parked', 'in', 'the', 'lot.', 'this', 'pasta', 'is', 'delicious', 'and', 'affordable.', 'i', 'enjoy', 'coding', 'in', 'python.', 'artificial', 'intelligence', 'is', 'transforming', 'industries.', 'the', 'weather', 'is', 'sunny', 'today.', 'she', 'loves', 'reading', 'books.', 'the', 'cake', 'tastes', 'amazing.', 'learning', 'new', 'things', 'every', 'day', 'is', 'fulfilling.', 'the', 'sky', 'is', 'clear', 'and', 'blue.', 'the', 'dog', 'chased', 'the', 'cat', 'around', 'the', 'yard.', 'he', 'is', 'studying', 'for', 'his', 'final', 'exams.', 'the', 'phone', 'battery', 'is', 'running', 'low.', 'nature', 'has', 'a', 'calming', 'effect', 'on', 'the', 'mind.', 'the', 'coffee', 'is', 'too', 'hot', 'to', 'drink', 'right', 'now.', 'she', 'enjoys', 'painting', 'landscapes', 'in', 'her', 'free', 'time.', 'the', 'train', 'arrived', 'at', 'the', 'station', 'early.', 'he', 'is', 'preparing', 'a', 'presentation', 'for', 'work.', 'i', 'am', 'excited', 'about', 'the', 'upcoming', 'event.', 'the', 'movie', 'was', 'thrilling', 'and', 'full', 'of', 'suspense.', 'running', 'in', 'the', 'park', 'is', 'a', 'great', 'way', 'to', 'start', 'the', 'day.', 'the', 'artist', 'painted', 'a', 'beautiful', 'portrait', 'of', 'the', 'woman.', 'she', 'is', 'learning', 'french', 'in', 'her', 'spare', 'time.', 'the', 'garden', 'is', 'blooming', 'with', 'colorful', 'flowers.', 'the', 'bird', 'sang', 'a', 'melodious', 'tune', 'in', 'the', 'morning.', 'the', 'conference', 'is', 'scheduled', 'for', 'next', 'week.', 'he', 'is', 'working', 'on', 'a', 'new', 'programming', 'project.', 'the', 'soup', 'is', 'warm', 'and', 'comforting', 'on', 'a', 'cold', 'day.', 'the', 'tree', 'swayed', 'gently', 'in', 'the', 'breeze.', 'she', 'is', 'practicing', 'yoga', 'to', 'improve', 'her', 'flexibility.', 'the', 'car', 'needs', 'a', 'wash', 'after', 'the', 'long', 'road', 'trip.', 'he', 'is', 'reading', 'a', 'mystery', 'novel', 'that', 'he', 'finds', 'intriguing.', 'the', 'sunset', 'over', 'the', 'ocean', 'was', 'breathtaking.', 'she', 'is', 'studying', 'the', 'behavior', 'of', 'marine', 'animals.', 'the', 'bakery', 'sells', 'freshly', 'baked', 'bread', 'every', 'morning.', 'he', 'is', 'organizing', 'a', 'charity', 'event', 'to', 'help', 'the', 'community.', 'the', 'restaurant', 'serves', 'a', 'variety', 'of', 'international', 'cuisines.', 'she', 'is', 'learning', 'to', 'play', 'the', 'guitar', 'in', 'her', 'free', 'time.', 'the', 'mountain', 'view', 'from', 'the', 'cabin', 'is', 'stunning.', 'he', 'is', 'training', 'for', 'the', 'marathon', 'next', 'month.', 'the', 'river', 'flows', 'peacefully', 'through', 'the', 'valley.', 'the', 'city', 'is', 'known', 'for', 'its', 'vibrant', 'nightlife.', 'she', 'is', 'baking', 'cookies', 'for', 'the', 'neighborhood', 'children.', 'the', 'garden', 'is', 'filled', 'with', 'the', 'fragrance', 'of', 'roses.', 'the', 'coffee', 'shop', 'is', 'always', 'crowded', 'in', 'the', 'mornings.', 'the', 'wind', 'is', 'howling', 'through', 'the', 'trees', 'on', 'this', 'stormy', 'night.', 'the', 'music', 'festival', 'attracted', 'people', 'from', 'all', 'over', 'the', 'country.', 'the', 'airplane', 'is', 'flying', 'at', 'an', 'altitude', 'of', '30,000', 'feet.', 'she', 'is', 'writing', 'a', 'book', 'about', 'her', 'travel', 'experiences.', 'the', 'road', 'trip', 'to', 'the', 'mountains', 'was', 'filled', 'with', 'adventure.', 'he', 'is', 'building', 'a', 'new', 'deck', 'for', 'his', 'backyard.', 'the', 'software', 'update', 'fixed', 'several', 'bugs', 'in', 'the', 'system.', 'the', 'library', 'is', 'quiet', 'and', 'perfect', 'for', 'studying.', 'she', 'is', 'volunteering', 'at', 'the', 'animal', 'shelter', 'on', 'weekends.', 'the', 'beach', 'is', 'a', 'popular', 'destination', 'during', 'the', 'summer.', 'he', 'is', 'assembling', 'a', 'model', 'airplane', 'in', 'his', 'workshop.', 'the', 'chef', 'prepared', 'a', 'gourmet', 'meal', 'for', 'the', 'guests.', 'the', 'sunrise', 'over', 'the', 'hills', 'was', 'spectacular.', 'she', 'is', 'planning', 'a', 'surprise', 'party', 'for', 'her', 'best', 'friend.', 'the', 'museum', 'exhibits', 'ancient', 'artifacts', 'from', 'various', 'cultures.', 'the', 'forest', 'is', 'home', 'to', 'a', 'diverse', 'range', 'of', 'wildlife.', 'the', 'students', 'are', 'preparing', 'for', 'the', 'upcoming', 'exams.', 'the', 'car', 'engine', 'needs', 'a', 'tune-up', 'to', 'run', 'smoothly.', 'she', 'is', 'knitting', 'a', 'scarf', 'for', 'the', 'winter', 'season.', 'the', 'project', 'deadline', 'is', 'approaching', 'fast.', 'the', 'dog', 'is', 'barking', 'loudly', 'at', 'the', 'passing', 'car.', 'he', 'is', 'building', 'a', 'robot', 'for', 'the', 'science', 'fair.', 'the', 'flowers', 'in', 'the', 'garden', 'are', 'in', 'full', 'bloom.', 'she', 'is', 'exploring', 'new', 'career', 'opportunities', 'in', 'the', 'tech', 'industry.', 'the', 'concert', 'was', 'an', 'unforgettable', 'experience.', 'the', 'computer', 'crashed', 'and', 'lost', 'all', 'the', 'unsaved', 'work.', 'the', 'marathon', 'runners', 'are', 'pushing', 'their', 'limits', 'to', 'the', 'finish', 'line.', 'the', 'bakery', 'is', 'known', 'for', 'its', 'delicious', 'pastries.', 'she', 'is', 'organizing', 'a', 'charity', 'auction', 'for', 'a', 'good', 'cause.', 'the', 'stars', 'in', 'the', 'night', 'sky', 'were', 'shining', 'brightly.', 'he', 'is', 'renovating', 'his', 'house', 'to', 'create', 'more', 'space.', 'the', 'team', 'is', 'working', 'hard', 'to', 'meet', 'the', 'project', 'deadline.', 'the', 'coffee', 'machine', 'is', 'broken', 'and', 'needs', 'to', 'be', 'repaired.', 'the', 'bicycle', 'ride', 'through', 'the', 'countryside', 'was', 'refreshing.', 'the', 'bookstore', 'offers', 'a', 'wide', 'selection', 'of', 'novels', 'and', 'non-fiction.', 'she', 'is', 'preparing', 'a', 'presentation', 'for', 'her', \"company's\", 'board', 'meeting.', 'the', 'rain', 'is', 'pouring', 'down', 'heavily', 'on', 'the', 'roof.', 'the', 'piano', 'recital', 'was', 'a', 'success,', 'and', 'the', 'audience', 'applauded.', 'the', 'drone', 'captured', 'stunning', 'aerial', 'footage', 'of', 'the', 'landscape.', 'he', 'is', 'designing', 'a', 'website', 'for', 'his', 'new', 'business.', 'the', 'holiday', 'season', 'is', 'a', 'time', 'for', 'family', 'gatherings', 'and', 'celebrations.', 'the', 'train', 'journey', 'through', 'the', 'mountains', 'was', 'breathtaking.', 'she', 'is', 'learning', 'to', 'code', 'in', 'python', 'to', 'enhance', 'her', 'skills.', 'the', 'smartphone', 'app', 'has', 'many', 'useful', 'features.', 'the', 'festival', 'featured', 'music,', 'food,', 'and', 'cultural', 'performances.', 'the', 'wildlife', 'photographer', 'captured', 'rare', 'images', 'of', 'the', 'animals.', 'he', 'is', 'saving', 'money', 'for', 'his', 'dream', 'vacation.', 'the', 'waves', 'crashed', 'against', 'the', 'shore', 'during', 'the', 'storm.', 'the', 'theater', 'was', 'packed', 'for', 'the', 'opening', 'night', 'of', 'the', 'play.', 'she', 'is', 'baking', 'a', 'cake', 'for', 'her', \"sister's\", 'birthday.', 'the', 'airplane', 'landed', 'safely', 'despite', 'the', 'turbulence.', 'the', 'garden', 'is', 'a', 'peaceful', 'retreat', 'from', 'the', 'busy', 'city.', 'he', 'is', 'practicing', 'his', 'presentation', 'for', 'the', 'upcoming', 'meeting.', 'the', 'store', 'is', 'offering', 'a', 'discount', 'on', 'all', 'electronics', 'this', 'weekend.', 'the', 'city', 'park', 'is', 'a', 'great', 'place', 'for', 'a', 'picnic.', 'the', 'football', 'team', 'is', 'preparing', 'for', 'the', 'championship', 'game.', 'she', 'is', 'writing', 'a', 'blog', 'about', 'her', 'experiences', 'as', 'a', 'digital', 'nomad.', 'the', 'sun', 'is', 'setting', 'behind', 'the', 'mountains,', 'casting', 'a', 'golden', 'glow.', 'he', 'is', 'painting', 'the', 'walls', 'of', 'his', 'living', 'room', 'a', 'bright', 'color.', 'the', 'yoga', 'class', 'helped', 'her', 'feel', 'relaxed', 'and', 'rejuvenated.', 'the', 'construction', 'workers', 'are', 'building', 'a', 'new', 'skyscraper', 'downtown.', 'the', 'new', 'restaurant', 'in', 'town', 'is', 'getting', 'rave', 'reviews.', 'she', 'is', 'organizing', 'a', 'community', 'cleanup', 'event', 'in', 'her', 'neighborhood.', 'the', 'train', 'station', 'is', 'bustling', 'with', 'commuters', 'during', 'rush', 'hour.', 'he', 'is', 'studying', 'the', 'effects', 'of', 'climate', 'change', 'on', 'polar', 'ice', 'caps.', 'the', 'book', 'he', 'is', 'reading', 'is', 'a', 'science', 'fiction', 'novel', 'about', 'space', 'travel.', 'the', 'garden', 'is', 'full', 'of', 'butterflies', 'and', 'bees.', 'she', 'is', 'practicing', 'for', 'her', 'upcoming', 'piano', 'recital.', 'the', 'technology', 'conference', 'attracted', 'attendees', 'from', 'around', 'the', 'world.', 'he', 'is', 'upgrading', 'his', 'computer', 'with', 'the', 'latest', 'hardware', 'components.', 'the', 'beach', 'is', 'a', 'perfect', 'place', 'to', 'relax', 'and', 'unwind.', 'she', 'is', 'volunteering', 'at', 'the', 'food', 'bank', 'to', 'help', 'those', 'in', 'need.', 'the', 'mountain', 'trail', 'offers', 'breathtaking', 'views', 'of', 'the', 'surrounding', 'landscape.', 'the', 'new', 'software', 'release', 'includes', 'several', 'improvements', 'and', 'features.', 'the', 'stars', 'are', 'visible', 'in', 'the', 'clear', 'night', 'sky.', 'he', 'is', 'working', 'on', 'a', 'new', 'app', 'that', 'tracks', 'fitness', 'goals.', 'the', 'library', 'is', 'hosting', 'a', 'workshop', 'on', 'creative', 'writing.', 'she', 'is', 'planning', 'a', 'road', 'trip', 'with', 'her', 'friends', 'next', 'month.', 'the', 'farmer', 'is', 'planting', 'crops', 'for', 'the', 'upcoming', 'harvest', 'season.', 'the', 'waterfall', 'cascades', 'down', 'the', 'rocky', 'cliff', 'into', 'the', 'river', 'below.', 'the', 'museum', 'is', 'showcasing', 'a', 'collection', 'of', 'modern', 'art', 'pieces.', 'he', 'is', 'preparing', 'a', 'speech', 'for', 'his', \"cousin's\", 'wedding.', 'the', 'sunset', 'over', 'the', 'ocean', 'was', 'a', 'beautiful', 'end', 'to', 'the', 'day.', 'the', 'new', 'movie', 'is', 'getting', 'positive', 'reviews', 'from', 'critics.', 'she', 'is', 'decorating', 'her', 'home', 'for', 'the', 'holiday', 'season.', 'the', 'soccer', 'match', 'was', 'thrilling,', 'with', 'both', 'teams', 'playing', 'their', 'best.', 'he', 'is', 'learning', 'a', 'new', 'programming', 'language', 'for', 'his', 'job.', 'the', 'bakery', 'smells', 'of', 'freshly', 'baked', 'bread', 'and', 'pastries.', 'the', 'river', 'is', 'flowing', 'swiftly', 'after', 'the', 'heavy', 'rain.', 'she', 'is', 'writing', 'a', 'poem', 'about', 'the', 'changing', 'seasons.', 'the', 'airplane', 'took', 'off', 'smoothly', 'and', 'reached', 'cruising', 'altitude', 'quickly.', 'the', 'park', 'is', 'filled', 'with', 'children', 'playing', 'on', 'the', 'swings', 'and', 'slides.', 'he', 'is', 'planning', 'to', 'start', 'his', 'own', 'business', 'next', 'year.', 'the', 'coffee', 'shop', 'has', 'a', 'cozy', 'atmosphere,', 'perfect', 'for', 'reading', 'a', 'book.', 'the', 'wildlife', 'reserve', 'is', 'home', 'to', 'many', 'endangered', 'species.', 'she', 'is', 'sewing', 'a', 'quilt', 'as', 'a', 'gift', 'for', 'her', 'grandmother.', 'the', 'car', 'broke', 'down', 'on', 'the', 'way', 'to', 'the', 'airport.', 'the', 'team', 'is', 'brainstorming', 'ideas', 'for', 'the', 'new', 'project.', 'the', 'dog', 'is', 'wagging', 'its', 'tail', 'happily', 'as', 'it', 'runs', 'in', 'the', 'yard.', 'she', 'is', 'learning', 'to', 'play', 'the', 'piano', 'with', 'the', 'help', 'of', 'a', 'tutor.', 'the', 'restaurant', 'serves', 'delicious', 'homemade', 'pasta.', 'he', 'is', 'building', 'a', 'treehouse', 'for', 'his', 'children', 'in', 'the', 'backyard.', 'the', 'sun', 'is', 'shining', 'brightly', 'on', 'this', 'warm', 'summer', 'day.', 'she', 'is', 'packing', 'her', 'suitcase', 'for', 'her', 'upcoming', 'vacation.', 'the', 'bookstore', 'is', 'having', 'a', 'sale', 'on', 'all', 'hardcover', 'books.', 'the', 'garden', 'is', 'filled', 'with', 'the', 'scent', 'of', 'blooming', 'flowers.', 'he', 'is', 'organizing', 'his', 'office', 'to', 'make', 'it', 'more', 'efficient.', 'the', 'movie', 'was', 'so', 'exciting', 'that', 'everyone', 'in', 'the', 'audience', 'was', 'on', 'edge.', 'the', 'chef', 'is', 'experimenting', 'with', 'new', 'recipes', 'for', 'the', 'menu.', 'she', 'is', 'taking', 'a', 'photography', 'class', 'to', 'improve', 'her', 'skills.', 'the', 'train', 'is', 'running', 'late', 'due', 'to', 'the', 'heavy', 'rain.', 'he', 'is', 'repairing', 'the', 'roof', 'of', 'his', 'house', 'after', 'the', 'storm.', 'the', 'yoga', 'class', 'focuses', 'on', 'breathing', 'techniques', 'and', 'relaxation.', 'the', 'city', 'skyline', 'is', 'breathtaking', 'at', 'night', 'with', 'all', 'the', 'lights.', 'she', 'is', 'writing', 'a', 'novel', 'about', 'her', 'travels', 'around', 'the', 'world.', 'the', 'football', 'team', 'won', 'the', 'championship', 'game', 'in', 'a', 'thrilling', 'finish.', 'he', 'is', 'studying', 'the', 'history', 'of', 'ancient', 'civilizations', 'for', 'his', 'research', 'paper.', 'the', 'beach', 'is', 'crowded', 'with', 'people', 'enjoying', 'the', 'sunny', 'weather.', 'she', 'is', 'knitting', 'a', 'sweater', 'for', 'her', 'newborn', 'niece.', 'the', 'car', 'dealership', 'is', 'offering', 'discounts', 'on', 'all', 'new', 'models.', 'he', 'is', 'designing', 'a', 'new', 'logo', 'for', 'his', 'company.', 'the', 'weather', 'forecast', 'predicts', 'snow', 'for', 'the', 'weekend.', 'the', 'library', 'is', 'quiet,', 'a', 'perfect', 'place', 'to', 'study.', 'she', 'is', 'taking', 'dance', 'lessons', 'to', 'prepare', 'for', 'her', 'wedding.', 'the', 'construction', 'of', 'the', 'new', 'bridge', 'is', 'ahead', 'of', 'schedule.', 'the', 'movie', 'premiere', 'was', 'attended', 'by', 'many', 'famous', 'celebrities.', 'he', 'is', 'training', 'for', 'a', 'triathlon', 'that', 'includes', 'swimming,', 'cycling,', 'and', 'running.', 'the', 'art', 'gallery', 'is', 'displaying', 'a', 'collection', 'of', 'abstract', 'paintings.', 'she', 'is', 'planting', 'flowers', 'in', 'her', 'garden', 'to', 'attract', 'butterflies.', 'the', 'airplane', 'is', 'flying', 'over', 'the', 'mountains', 'on', 'its', 'way', 'to', 'the', 'destination.', 'he', 'is', 'learning', 'to', 'play', 'the', 'guitar', 'by', 'watching', 'online', 'tutorials.']\n"
          ]
        }
      ]
    },
    {
      "cell_type": "markdown",
      "source": [
        "# Task 3: One-Hot Encoding for a Given Text\n",
        " Write a program that converts a sentence into one-hot encoded vectors.\n"
      ],
      "metadata": {
        "id": "mffwwItQxHly"
      }
    },
    {
      "cell_type": "code",
      "source": [
        "import numpy as np\n",
        "\n",
        "def one_hot_encode(text):\n",
        "    word_to_index = {}\n",
        "    index = 0\n",
        "    for word in text.split():\n",
        "        if word not in word_to_index:\n",
        "            word_to_index[word] = index\n",
        "            index += 1\n",
        "\n",
        "    one_hot_vectors = []\n",
        "    for word in text.split():\n",
        "        vector = np.zeros(len(word_to_index))\n",
        "        vector[word_to_index[word]] = 1\n",
        "        one_hot_vectors.append(vector)\n",
        "\n",
        "    return one_hot_vectors\n",
        "\n",
        "with open('datset.txt', 'r') as f:\n",
        "    first_sentence = \"\"\n",
        "    while True:\n",
        "        char = f.read(1)\n",
        "        if not char or char == '.':\n",
        "            break\n",
        "        first_sentence += char\n",
        "\n",
        "first_sentence = first_sentence.strip().lower()\n",
        "\n",
        "one_hot_vectors = one_hot_encode(first_sentence)\n",
        "\n",
        "print(\"One-Hot Encoded Vectors:\")\n",
        "first_sentence_words = first_sentence.split()\n",
        "for i, vector in enumerate(one_hot_vectors):\n",
        "    print(f\"Word: {first_sentence_words[i]}, Vector: {vector}\")\n"
      ],
      "metadata": {
        "id": "bKEuDnK9xTWH",
        "outputId": "5bccbf4a-c6be-4d72-e8c5-32b4288608a1",
        "colab": {
          "base_uri": "https://localhost:8080/"
        }
      },
      "execution_count": 3,
      "outputs": [
        {
          "output_type": "stream",
          "name": "stdout",
          "text": [
            "One-Hot Encoded Vectors:\n",
            "Word: the, Vector: [1. 0. 0. 0. 0. 0.]\n",
            "Word: car, Vector: [0. 1. 0. 0. 0. 0.]\n",
            "Word: is, Vector: [0. 0. 1. 0. 0. 0.]\n",
            "Word: driven, Vector: [0. 0. 0. 1. 0. 0.]\n",
            "Word: on, Vector: [0. 0. 0. 0. 1. 0.]\n",
            "Word: the, Vector: [1. 0. 0. 0. 0. 0.]\n",
            "Word: road, Vector: [0. 0. 0. 0. 0. 1.]\n"
          ]
        }
      ]
    },
    {
      "cell_type": "markdown",
      "source": [
        "# Task 4: TF-IDF Calculation\n",
        "Implement a function to calculate Term Frequency (TF) and Inverse Document Frequency (IDF) for a given corpus of documents."
      ],
      "metadata": {
        "id": "XqRN6TmNzpYn"
      }
    },
    {
      "cell_type": "code",
      "source": [
        "import math\n",
        "\n",
        "def calculate_tf(sentence):\n",
        "    words = sentence.split()\n",
        "    total_words = len(words)\n",
        "    tf = {}\n",
        "\n",
        "    for word in words:\n",
        "        tf[word] = tf.get(word, 0) + 1\n",
        "\n",
        "    for word in tf:\n",
        "        tf[word] /= total_words\n",
        "\n",
        "    return tf\n",
        "\n",
        "def calculate_idf(sentences):\n",
        "    total_sentences = len(sentences)\n",
        "    word_doc_count = {}\n",
        "\n",
        "    for sentence in sentences:\n",
        "        unique_words = set(sentence.split())\n",
        "        for word in unique_words:\n",
        "            word_doc_count[word] = word_doc_count.get(word, 0) + 1\n",
        "\n",
        "    idf = {}\n",
        "    for word, count in word_doc_count.items():\n",
        "        idf[word] = math.log(total_sentences / count)\n",
        "\n",
        "    return idf\n",
        "\n",
        "with open('datset.txt', 'r') as f:\n",
        "    content = f.read().strip().lower()\n",
        "    sentences = content.split('. ')\n",
        "\n",
        "tf_scores = [calculate_tf(sentence) for sentence in sentences]\n",
        "\n",
        "idf_scores = calculate_idf(sentences)\n",
        "\n",
        "print(\"TF Scores:\")\n",
        "for i, tf in enumerate(tf_scores):\n",
        "    print(f\"Sentence {i+1}: {tf}\")\n",
        "\n",
        "print(\"\\nIDF Scores:\")\n",
        "print(idf_scores)\n"
      ],
      "metadata": {
        "id": "rAwTk1W6zyhF",
        "outputId": "35f7d26a-ecf7-45b9-feb0-f6c29e3c7daa",
        "colab": {
          "base_uri": "https://localhost:8080/"
        }
      },
      "execution_count": 7,
      "outputs": [
        {
          "output_type": "stream",
          "name": "stdout",
          "text": [
            "TF Scores for each sentence:\n",
            "Sentence 1: {'the': 0.1272390364422483, 'car': 0.0030883261272390363, 'is': 0.07226683137739345, 'driven': 0.0006176652254478073, 'on': 0.01173563928350834, 'road.': 0.0006176652254478073, 'truck': 0.0006176652254478073, 'parked': 0.0006176652254478073, 'in': 0.015441630636195183, 'lot.': 0.0006176652254478073, 'this': 0.0024706609017912293, 'pasta': 0.0006176652254478073, 'delicious': 0.0018529956763434219, 'and': 0.012353304508956145, 'affordable.': 0.0006176652254478073, 'i': 0.0012353304508956147, 'enjoy': 0.0006176652254478073, 'coding': 0.0006176652254478073, 'python.': 0.0006176652254478073, 'artificial': 0.0006176652254478073, 'intelligence': 0.0006176652254478073, 'transforming': 0.0006176652254478073, 'industries.': 0.0006176652254478073, 'weather': 0.0012353304508956147, 'sunny': 0.0012353304508956147, 'today.': 0.0006176652254478073, 'she': 0.019147621988882025, 'loves': 0.0006176652254478073, 'reading': 0.0024706609017912293, 'books.': 0.0012353304508956147, 'cake': 0.0012353304508956147, 'tastes': 0.0006176652254478073, 'amazing.': 0.0006176652254478073, 'learning': 0.004323656578134651, 'new': 0.009882643607164917, 'things': 0.0006176652254478073, 'every': 0.0012353304508956147, 'day': 0.0006176652254478073, 'fulfilling.': 0.0006176652254478073, 'sky': 0.0012353304508956147, 'clear': 0.0012353304508956147, 'blue.': 0.0006176652254478073, 'dog': 0.0018529956763434219, 'chased': 0.0006176652254478073, 'cat': 0.0006176652254478073, 'around': 0.0018529956763434219, 'yard.': 0.0012353304508956147, 'he': 0.017912291537986413, 'studying': 0.0024706609017912293, 'for': 0.0253242742433601, 'his': 0.010500308832612723, 'final': 0.0006176652254478073, 'exams.': 0.0012353304508956147, 'phone': 0.0006176652254478073, 'battery': 0.0006176652254478073, 'running': 0.0018529956763434219, 'low.': 0.0006176652254478073, 'nature': 0.0006176652254478073, 'has': 0.0018529956763434219, 'a': 0.03953057442865967, 'calming': 0.0006176652254478073, 'effect': 0.0006176652254478073, 'mind.': 0.0006176652254478073, 'coffee': 0.0024706609017912293, 'too': 0.0006176652254478073, 'hot': 0.0006176652254478073, 'to': 0.017912291537986413, 'drink': 0.0006176652254478073, 'right': 0.0006176652254478073, 'now.': 0.0006176652254478073, 'enjoys': 0.0006176652254478073, 'painting': 0.0012353304508956147, 'landscapes': 0.0006176652254478073, 'her': 0.014206300185299567, 'free': 0.0012353304508956147, 'time.': 0.0018529956763434219, 'train': 0.0024706609017912293, 'arrived': 0.0006176652254478073, 'at': 0.0037059913526868438, 'station': 0.0012353304508956147, 'early.': 0.0006176652254478073, 'preparing': 0.0030883261272390363, 'presentation': 0.0018529956763434219, 'work.': 0.0012353304508956147, 'am': 0.0006176652254478073, 'excited': 0.0006176652254478073, 'about': 0.0037059913526868438, 'upcoming': 0.0037059913526868438, 'event.': 0.0006176652254478073, 'movie': 0.0024706609017912293, 'was': 0.008647313156269302, 'thrilling': 0.0012353304508956147, 'full': 0.0018529956763434219, 'of': 0.014823965410747375, 'suspense.': 0.0006176652254478073, 'park': 0.0018529956763434219, 'great': 0.0012353304508956147, 'way': 0.0018529956763434219, 'start': 0.0012353304508956147, 'day.': 0.0024706609017912293, 'artist': 0.0006176652254478073, 'painted': 0.0006176652254478073, 'beautiful': 0.0012353304508956147, 'portrait': 0.0006176652254478073, 'woman.': 0.0006176652254478073, 'french': 0.0006176652254478073, 'spare': 0.0006176652254478073, 'garden': 0.004323656578134651, 'blooming': 0.0012353304508956147, 'with': 0.008029647930821495, 'colorful': 0.0006176652254478073, 'flowers.': 0.0012353304508956147, 'bird': 0.0006176652254478073, 'sang': 0.0006176652254478073, 'melodious': 0.0006176652254478073, 'tune': 0.0006176652254478073, 'morning.': 0.0012353304508956147, 'conference': 0.0012353304508956147, 'scheduled': 0.0006176652254478073, 'next': 0.0024706609017912293, 'week.': 0.0006176652254478073, 'working': 0.0018529956763434219, 'programming': 0.0012353304508956147, 'project.': 0.0012353304508956147, 'soup': 0.0006176652254478073, 'warm': 0.0012353304508956147, 'comforting': 0.0006176652254478073, 'cold': 0.0006176652254478073, 'tree': 0.0006176652254478073, 'swayed': 0.0006176652254478073, 'gently': 0.0006176652254478073, 'breeze.': 0.0006176652254478073, 'practicing': 0.0018529956763434219, 'yoga': 0.0018529956763434219, 'improve': 0.0012353304508956147, 'flexibility.': 0.0006176652254478073, 'needs': 0.0018529956763434219, 'wash': 0.0006176652254478073, 'after': 0.0018529956763434219, 'long': 0.0006176652254478073, 'road': 0.0018529956763434219, 'trip.': 0.0006176652254478073, 'mystery': 0.0006176652254478073, 'novel': 0.0018529956763434219, 'that': 0.0024706609017912293, 'finds': 0.0006176652254478073, 'intriguing.': 0.0006176652254478073, 'sunset': 0.0012353304508956147, 'over': 0.0030883261272390363, 'ocean': 0.0012353304508956147, 'breathtaking.': 0.0012353304508956147, 'behavior': 0.0006176652254478073, 'marine': 0.0006176652254478073, 'animals.': 0.0012353304508956147, 'bakery': 0.0018529956763434219, 'sells': 0.0006176652254478073, 'freshly': 0.0012353304508956147, 'baked': 0.0012353304508956147, 'bread': 0.0012353304508956147, 'organizing': 0.0024706609017912293, 'charity': 0.0012353304508956147, 'event': 0.0012353304508956147, 'help': 0.0018529956763434219, 'community.': 0.0006176652254478073, 'restaurant': 0.0018529956763434219, 'serves': 0.0012353304508956147, 'variety': 0.0006176652254478073, 'international': 0.0006176652254478073, 'cuisines.': 0.0006176652254478073, 'play': 0.0018529956763434219, 'guitar': 0.0012353304508956147, 'mountain': 0.0012353304508956147, 'view': 0.0006176652254478073, 'from': 0.0037059913526868438, 'cabin': 0.0006176652254478073, 'stunning.': 0.0006176652254478073, 'training': 0.0012353304508956147, 'marathon': 0.0012353304508956147, 'month.': 0.0012353304508956147, 'river': 0.0018529956763434219, 'flows': 0.0006176652254478073, 'peacefully': 0.0006176652254478073, 'through': 0.0024706609017912293, 'valley.': 0.0006176652254478073, 'city': 0.0018529956763434219, 'known': 0.0012353304508956147, 'its': 0.0024706609017912293, 'vibrant': 0.0006176652254478073, 'nightlife.': 0.0006176652254478073, 'baking': 0.0012353304508956147, 'cookies': 0.0006176652254478073, 'neighborhood': 0.0006176652254478073, 'children.': 0.0006176652254478073, 'filled': 0.0024706609017912293, 'fragrance': 0.0006176652254478073, 'roses.': 0.0006176652254478073, 'shop': 0.0012353304508956147, 'always': 0.0006176652254478073, 'crowded': 0.0012353304508956147, 'mornings.': 0.0006176652254478073, 'wind': 0.0006176652254478073, 'howling': 0.0006176652254478073, 'trees': 0.0006176652254478073, 'stormy': 0.0006176652254478073, 'night.': 0.0006176652254478073, 'music': 0.0006176652254478073, 'festival': 0.0012353304508956147, 'attracted': 0.0012353304508956147, 'people': 0.0012353304508956147, 'all': 0.0037059913526868438, 'country.': 0.0006176652254478073, 'airplane': 0.0030883261272390363, 'flying': 0.0012353304508956147, 'an': 0.0012353304508956147, 'altitude': 0.0012353304508956147, '30,000': 0.0006176652254478073, 'feet.': 0.0006176652254478073, 'writing': 0.0024706609017912293, 'book': 0.0012353304508956147, 'travel': 0.0006176652254478073, 'experiences.': 0.0006176652254478073, 'trip': 0.0012353304508956147, 'mountains': 0.0018529956763434219, 'adventure.': 0.0006176652254478073, 'building': 0.0024706609017912293, 'deck': 0.0006176652254478073, 'backyard.': 0.0012353304508956147, 'software': 0.0012353304508956147, 'update': 0.0006176652254478073, 'fixed': 0.0006176652254478073, 'several': 0.0012353304508956147, 'bugs': 0.0006176652254478073, 'system.': 0.0006176652254478073, 'library': 0.0018529956763434219, 'quiet': 0.0006176652254478073, 'perfect': 0.0024706609017912293, 'studying.': 0.0006176652254478073, 'volunteering': 0.0012353304508956147, 'animal': 0.0006176652254478073, 'shelter': 0.0006176652254478073, 'weekends.': 0.0006176652254478073, 'beach': 0.0018529956763434219, 'popular': 0.0006176652254478073, 'destination': 0.0006176652254478073, 'during': 0.0018529956763434219, 'summer.': 0.0006176652254478073, 'assembling': 0.0006176652254478073, 'model': 0.0006176652254478073, 'workshop.': 0.0006176652254478073, 'chef': 0.0012353304508956147, 'prepared': 0.0006176652254478073, 'gourmet': 0.0006176652254478073, 'meal': 0.0006176652254478073, 'guests.': 0.0006176652254478073, 'sunrise': 0.0006176652254478073, 'hills': 0.0006176652254478073, 'spectacular.': 0.0006176652254478073, 'planning': 0.0018529956763434219, 'surprise': 0.0006176652254478073, 'party': 0.0006176652254478073, 'best': 0.0006176652254478073, 'friend.': 0.0006176652254478073, 'museum': 0.0012353304508956147, 'exhibits': 0.0006176652254478073, 'ancient': 0.0012353304508956147, 'artifacts': 0.0006176652254478073, 'various': 0.0006176652254478073, 'cultures.': 0.0006176652254478073, 'forest': 0.0006176652254478073, 'home': 0.0018529956763434219, 'diverse': 0.0006176652254478073, 'range': 0.0006176652254478073, 'wildlife.': 0.0006176652254478073, 'students': 0.0006176652254478073, 'are': 0.0030883261272390363, 'engine': 0.0006176652254478073, 'tune-up': 0.0006176652254478073, 'run': 0.0006176652254478073, 'smoothly.': 0.0006176652254478073, 'knitting': 0.0012353304508956147, 'scarf': 0.0006176652254478073, 'winter': 0.0006176652254478073, 'season.': 0.0018529956763434219, 'project': 0.0012353304508956147, 'deadline': 0.0006176652254478073, 'approaching': 0.0006176652254478073, 'fast.': 0.0006176652254478073, 'barking': 0.0006176652254478073, 'loudly': 0.0006176652254478073, 'passing': 0.0006176652254478073, 'car.': 0.0006176652254478073, 'robot': 0.0006176652254478073, 'science': 0.0012353304508956147, 'fair.': 0.0006176652254478073, 'flowers': 0.0012353304508956147, 'bloom.': 0.0006176652254478073, 'exploring': 0.0006176652254478073, 'career': 0.0006176652254478073, 'opportunities': 0.0006176652254478073, 'tech': 0.0006176652254478073, 'industry.': 0.0006176652254478073, 'concert': 0.0006176652254478073, 'unforgettable': 0.0006176652254478073, 'experience.': 0.0006176652254478073, 'computer': 0.0012353304508956147, 'crashed': 0.0012353304508956147, 'lost': 0.0006176652254478073, 'unsaved': 0.0006176652254478073, 'runners': 0.0006176652254478073, 'pushing': 0.0006176652254478073, 'their': 0.0012353304508956147, 'limits': 0.0006176652254478073, 'finish': 0.0006176652254478073, 'line.': 0.0006176652254478073, 'pastries.': 0.0012353304508956147, 'auction': 0.0006176652254478073, 'good': 0.0006176652254478073, 'cause.': 0.0006176652254478073, 'stars': 0.0012353304508956147, 'night': 0.0024706609017912293, 'were': 0.0006176652254478073, 'shining': 0.0012353304508956147, 'brightly.': 0.0006176652254478073, 'renovating': 0.0006176652254478073, 'house': 0.0012353304508956147, 'create': 0.0006176652254478073, 'more': 0.0012353304508956147, 'space.': 0.0006176652254478073, 'team': 0.0024706609017912293, 'hard': 0.0006176652254478073, 'meet': 0.0006176652254478073, 'deadline.': 0.0006176652254478073, 'machine': 0.0006176652254478073, 'broken': 0.0006176652254478073, 'be': 0.0006176652254478073, 'repaired.': 0.0006176652254478073, 'bicycle': 0.0006176652254478073, 'ride': 0.0006176652254478073, 'countryside': 0.0006176652254478073, 'refreshing.': 0.0006176652254478073, 'bookstore': 0.0012353304508956147, 'offers': 0.0012353304508956147, 'wide': 0.0006176652254478073, 'selection': 0.0006176652254478073, 'novels': 0.0006176652254478073, 'non-fiction.': 0.0006176652254478073, \"company's\": 0.0006176652254478073, 'board': 0.0006176652254478073, 'meeting.': 0.0012353304508956147, 'rain': 0.0006176652254478073, 'pouring': 0.0006176652254478073, 'down': 0.0018529956763434219, 'heavily': 0.0006176652254478073, 'roof.': 0.0006176652254478073, 'piano': 0.0018529956763434219, 'recital': 0.0006176652254478073, 'success,': 0.0006176652254478073, 'audience': 0.0012353304508956147, 'applauded.': 0.0006176652254478073, 'drone': 0.0006176652254478073, 'captured': 0.0012353304508956147, 'stunning': 0.0006176652254478073, 'aerial': 0.0006176652254478073, 'footage': 0.0006176652254478073, 'landscape.': 0.0012353304508956147, 'designing': 0.0012353304508956147, 'website': 0.0006176652254478073, 'business.': 0.0006176652254478073, 'holiday': 0.0012353304508956147, 'season': 0.0006176652254478073, 'time': 0.0006176652254478073, 'family': 0.0006176652254478073, 'gatherings': 0.0006176652254478073, 'celebrations.': 0.0006176652254478073, 'journey': 0.0006176652254478073, 'code': 0.0006176652254478073, 'python': 0.0006176652254478073, 'enhance': 0.0006176652254478073, 'skills.': 0.0012353304508956147, 'smartphone': 0.0006176652254478073, 'app': 0.0012353304508956147, 'many': 0.0018529956763434219, 'useful': 0.0006176652254478073, 'features.': 0.0012353304508956147, 'featured': 0.0006176652254478073, 'music,': 0.0006176652254478073, 'food,': 0.0006176652254478073, 'cultural': 0.0006176652254478073, 'performances.': 0.0006176652254478073, 'wildlife': 0.0012353304508956147, 'photographer': 0.0006176652254478073, 'rare': 0.0006176652254478073, 'images': 0.0006176652254478073, 'saving': 0.0006176652254478073, 'money': 0.0006176652254478073, 'dream': 0.0006176652254478073, 'vacation.': 0.0012353304508956147, 'waves': 0.0006176652254478073, 'against': 0.0006176652254478073, 'shore': 0.0006176652254478073, 'storm.': 0.0012353304508956147, 'theater': 0.0006176652254478073, 'packed': 0.0006176652254478073, 'opening': 0.0006176652254478073, 'play.': 0.0006176652254478073, \"sister's\": 0.0006176652254478073, 'birthday.': 0.0006176652254478073, 'landed': 0.0006176652254478073, 'safely': 0.0006176652254478073, 'despite': 0.0006176652254478073, 'turbulence.': 0.0006176652254478073, 'peaceful': 0.0006176652254478073, 'retreat': 0.0006176652254478073, 'busy': 0.0006176652254478073, 'city.': 0.0006176652254478073, 'store': 0.0006176652254478073, 'offering': 0.0012353304508956147, 'discount': 0.0006176652254478073, 'electronics': 0.0006176652254478073, 'weekend.': 0.0012353304508956147, 'place': 0.0018529956763434219, 'picnic.': 0.0006176652254478073, 'football': 0.0012353304508956147, 'championship': 0.0012353304508956147, 'game.': 0.0006176652254478073, 'blog': 0.0006176652254478073, 'experiences': 0.0006176652254478073, 'as': 0.0018529956763434219, 'digital': 0.0006176652254478073, 'nomad.': 0.0006176652254478073, 'sun': 0.0012353304508956147, 'setting': 0.0006176652254478073, 'behind': 0.0006176652254478073, 'mountains,': 0.0006176652254478073, 'casting': 0.0006176652254478073, 'golden': 0.0006176652254478073, 'glow.': 0.0006176652254478073, 'walls': 0.0006176652254478073, 'living': 0.0006176652254478073, 'room': 0.0006176652254478073, 'bright': 0.0006176652254478073, 'color.': 0.0006176652254478073, 'class': 0.0018529956763434219, 'helped': 0.0006176652254478073, 'feel': 0.0006176652254478073, 'relaxed': 0.0006176652254478073, 'rejuvenated.': 0.0006176652254478073, 'construction': 0.0012353304508956147, 'workers': 0.0006176652254478073, 'skyscraper': 0.0006176652254478073, 'downtown.': 0.0006176652254478073, 'town': 0.0006176652254478073, 'getting': 0.0012353304508956147, 'rave': 0.0006176652254478073, 'reviews.': 0.0006176652254478073, 'community': 0.0006176652254478073, 'cleanup': 0.0006176652254478073, 'neighborhood.': 0.0006176652254478073, 'bustling': 0.0006176652254478073, 'commuters': 0.0006176652254478073, 'rush': 0.0006176652254478073, 'hour.': 0.0006176652254478073, 'effects': 0.0006176652254478073, 'climate': 0.0006176652254478073, 'change': 0.0006176652254478073, 'polar': 0.0006176652254478073, 'ice': 0.0006176652254478073, 'caps.': 0.0006176652254478073, 'fiction': 0.0006176652254478073, 'space': 0.0006176652254478073, 'travel.': 0.0006176652254478073, 'butterflies': 0.0006176652254478073, 'bees.': 0.0006176652254478073, 'recital.': 0.0006176652254478073, 'technology': 0.0006176652254478073, 'attendees': 0.0006176652254478073, 'world.': 0.0012353304508956147, 'upgrading': 0.0006176652254478073, 'latest': 0.0006176652254478073, 'hardware': 0.0006176652254478073, 'components.': 0.0006176652254478073, 'relax': 0.0006176652254478073, 'unwind.': 0.0006176652254478073, 'food': 0.0006176652254478073, 'bank': 0.0006176652254478073, 'those': 0.0006176652254478073, 'need.': 0.0006176652254478073, 'trail': 0.0006176652254478073, 'breathtaking': 0.0012353304508956147, 'views': 0.0006176652254478073, 'surrounding': 0.0006176652254478073, 'release': 0.0006176652254478073, 'includes': 0.0012353304508956147, 'improvements': 0.0006176652254478073, 'visible': 0.0006176652254478073, 'sky.': 0.0006176652254478073, 'tracks': 0.0006176652254478073, 'fitness': 0.0006176652254478073, 'goals.': 0.0006176652254478073, 'hosting': 0.0006176652254478073, 'workshop': 0.0006176652254478073, 'creative': 0.0006176652254478073, 'writing.': 0.0006176652254478073, 'friends': 0.0006176652254478073, 'farmer': 0.0006176652254478073, 'planting': 0.0012353304508956147, 'crops': 0.0006176652254478073, 'harvest': 0.0006176652254478073, 'waterfall': 0.0006176652254478073, 'cascades': 0.0006176652254478073, 'rocky': 0.0006176652254478073, 'cliff': 0.0006176652254478073, 'into': 0.0006176652254478073, 'below.': 0.0006176652254478073, 'showcasing': 0.0006176652254478073, 'collection': 0.0012353304508956147, 'modern': 0.0006176652254478073, 'art': 0.0012353304508956147, 'pieces.': 0.0006176652254478073, 'speech': 0.0006176652254478073, \"cousin's\": 0.0006176652254478073, 'wedding.': 0.0012353304508956147, 'end': 0.0006176652254478073, 'positive': 0.0006176652254478073, 'reviews': 0.0006176652254478073, 'critics.': 0.0006176652254478073, 'decorating': 0.0006176652254478073, 'soccer': 0.0006176652254478073, 'match': 0.0006176652254478073, 'thrilling,': 0.0006176652254478073, 'both': 0.0006176652254478073, 'teams': 0.0006176652254478073, 'playing': 0.0012353304508956147, 'best.': 0.0006176652254478073, 'language': 0.0006176652254478073, 'job.': 0.0006176652254478073, 'smells': 0.0006176652254478073, 'flowing': 0.0006176652254478073, 'swiftly': 0.0006176652254478073, 'heavy': 0.0012353304508956147, 'rain.': 0.0012353304508956147, 'poem': 0.0006176652254478073, 'changing': 0.0006176652254478073, 'seasons.': 0.0006176652254478073, 'took': 0.0006176652254478073, 'off': 0.0006176652254478073, 'smoothly': 0.0006176652254478073, 'reached': 0.0006176652254478073, 'cruising': 0.0006176652254478073, 'quickly.': 0.0006176652254478073, 'children': 0.0012353304508956147, 'swings': 0.0006176652254478073, 'slides.': 0.0006176652254478073, 'own': 0.0006176652254478073, 'business': 0.0006176652254478073, 'year.': 0.0006176652254478073, 'cozy': 0.0006176652254478073, 'atmosphere,': 0.0006176652254478073, 'book.': 0.0006176652254478073, 'reserve': 0.0006176652254478073, 'endangered': 0.0006176652254478073, 'species.': 0.0006176652254478073, 'sewing': 0.0006176652254478073, 'quilt': 0.0006176652254478073, 'gift': 0.0006176652254478073, 'grandmother.': 0.0006176652254478073, 'broke': 0.0006176652254478073, 'airport.': 0.0006176652254478073, 'brainstorming': 0.0006176652254478073, 'ideas': 0.0006176652254478073, 'wagging': 0.0006176652254478073, 'tail': 0.0006176652254478073, 'happily': 0.0006176652254478073, 'it': 0.0012353304508956147, 'runs': 0.0006176652254478073, 'tutor.': 0.0006176652254478073, 'homemade': 0.0006176652254478073, 'pasta.': 0.0006176652254478073, 'treehouse': 0.0006176652254478073, 'brightly': 0.0006176652254478073, 'summer': 0.0006176652254478073, 'packing': 0.0006176652254478073, 'suitcase': 0.0006176652254478073, 'having': 0.0006176652254478073, 'sale': 0.0006176652254478073, 'hardcover': 0.0006176652254478073, 'scent': 0.0006176652254478073, 'office': 0.0006176652254478073, 'make': 0.0006176652254478073, 'efficient.': 0.0006176652254478073, 'so': 0.0006176652254478073, 'exciting': 0.0006176652254478073, 'everyone': 0.0006176652254478073, 'edge.': 0.0006176652254478073, 'experimenting': 0.0006176652254478073, 'recipes': 0.0006176652254478073, 'menu.': 0.0006176652254478073, 'taking': 0.0012353304508956147, 'photography': 0.0006176652254478073, 'late': 0.0006176652254478073, 'due': 0.0006176652254478073, 'repairing': 0.0006176652254478073, 'roof': 0.0006176652254478073, 'focuses': 0.0006176652254478073, 'breathing': 0.0006176652254478073, 'techniques': 0.0006176652254478073, 'relaxation.': 0.0006176652254478073, 'skyline': 0.0006176652254478073, 'lights.': 0.0006176652254478073, 'travels': 0.0006176652254478073, 'won': 0.0006176652254478073, 'game': 0.0006176652254478073, 'finish.': 0.0006176652254478073, 'history': 0.0006176652254478073, 'civilizations': 0.0006176652254478073, 'research': 0.0006176652254478073, 'paper.': 0.0006176652254478073, 'enjoying': 0.0006176652254478073, 'weather.': 0.0006176652254478073, 'sweater': 0.0006176652254478073, 'newborn': 0.0006176652254478073, 'niece.': 0.0006176652254478073, 'dealership': 0.0006176652254478073, 'discounts': 0.0006176652254478073, 'models.': 0.0006176652254478073, 'logo': 0.0006176652254478073, 'company.': 0.0006176652254478073, 'forecast': 0.0006176652254478073, 'predicts': 0.0006176652254478073, 'snow': 0.0006176652254478073, 'quiet,': 0.0006176652254478073, 'study.': 0.0006176652254478073, 'dance': 0.0006176652254478073, 'lessons': 0.0006176652254478073, 'prepare': 0.0006176652254478073, 'bridge': 0.0006176652254478073, 'ahead': 0.0006176652254478073, 'schedule.': 0.0006176652254478073, 'premiere': 0.0006176652254478073, 'attended': 0.0006176652254478073, 'by': 0.0012353304508956147, 'famous': 0.0006176652254478073, 'celebrities.': 0.0006176652254478073, 'triathlon': 0.0006176652254478073, 'swimming,': 0.0006176652254478073, 'cycling,': 0.0006176652254478073, 'running.': 0.0006176652254478073, 'gallery': 0.0006176652254478073, 'displaying': 0.0006176652254478073, 'abstract': 0.0006176652254478073, 'paintings.': 0.0006176652254478073, 'attract': 0.0006176652254478073, 'butterflies.': 0.0006176652254478073, 'destination.': 0.0006176652254478073, 'watching': 0.0006176652254478073, 'online': 0.0006176652254478073, 'tutorials.': 0.0006176652254478073}\n",
            "\n",
            "IDF Scores across the sentences:\n",
            "{'park': 0.0, 'bank': 0.0, 'vacation.': 0.0, 'weekends.': 0.0, 'at': 0.0, 'trees': 0.0, 'restaurant': 0.0, 'discount': 0.0, 'latest': 0.0, 'menu.': 0.0, 'on': 0.0, 'snow': 0.0, 'season': 0.0, 'website': 0.0, 'reviews': 0.0, 'study.': 0.0, 'hard': 0.0, 'marathon': 0.0, 'lights.': 0.0, 'critics.': 0.0, 'unsaved': 0.0, 'car': 0.0, 'ocean': 0.0, 'board': 0.0, 'smartphone': 0.0, 'roof.': 0.0, 'wide': 0.0, 'cat': 0.0, 'photographer': 0.0, 'tracks': 0.0, 'loves': 0.0, 'pieces.': 0.0, 'late': 0.0, 'animals.': 0.0, 'everyone': 0.0, 'retreat': 0.0, 'people': 0.0, 'engine': 0.0, 'off': 0.0, 'stunning.': 0.0, 'heavy': 0.0, 'valley.': 0.0, 'treehouse': 0.0, 'safely': 0.0, 'attract': 0.0, 'wagging': 0.0, 'tune-up': 0.0, 'month.': 0.0, 'creative': 0.0, 'exciting': 0.0, 'unforgettable': 0.0, 'so': 0.0, 'research': 0.0, 'peacefully': 0.0, 'theater': 0.0, 'gourmet': 0.0, 'car.': 0.0, 'affordable.': 0.0, 'lost': 0.0, 'play': 0.0, 'attracted': 0.0, 'taking': 0.0, 'road.': 0.0, 'opportunities': 0.0, 'soup': 0.0, 'sang': 0.0, 'displaying': 0.0, 'create': 0.0, 'decorating': 0.0, 'truck': 0.0, 'swayed': 0.0, 'event': 0.0, 'perfect': 0.0, 'having': 0.0, 'be': 0.0, 'office': 0.0, 'relax': 0.0, 'those': 0.0, 'robot': 0.0, 'start': 0.0, 'need.': 0.0, 'neighborhood.': 0.0, 'rave': 0.0, 'exploring': 0.0, 'bicycle': 0.0, 'ancient': 0.0, 'positive': 0.0, 'exams.': 0.0, 'happily': 0.0, 'experiences': 0.0, 'new': 0.0, 'rain': 0.0, 'family': 0.0, 'scent': 0.0, 'wildlife.': 0.0, 'won': 0.0, 'online': 0.0, 'finish.': 0.0, 'week.': 0.0, 'knitting': 0.0, 'morning.': 0.0, 'final': 0.0, 'charity': 0.0, 'vibrant': 0.0, 'assembling': 0.0, 'deadline.': 0.0, 'intelligence': 0.0, 'ride': 0.0, 'studying.': 0.0, 'nomad.': 0.0, 'home': 0.0, 'feet.': 0.0, 'gatherings': 0.0, 'popular': 0.0, \"company's\": 0.0, 'workers': 0.0, 'prepared': 0.0, 'walls': 0.0, 'butterflies.': 0.0, 'living': 0.0, 'ideas': 0.0, 'adventure.': 0.0, \"sister's\": 0.0, 'thrilling': 0.0, 'their': 0.0, 'for': 0.0, 'experimenting': 0.0, 'lot.': 0.0, 'effects': 0.0, 'changing': 0.0, 'newborn': 0.0, 'time.': 0.0, 'library': 0.0, 'am': 0.0, 'workshop.': 0.0, 'run': 0.0, 'mountains': 0.0, 'children': 0.0, 'despite': 0.0, 'great': 0.0, 'food,': 0.0, 'summer': 0.0, 'writing.': 0.0, 'artificial': 0.0, 'smoothly': 0.0, 'help': 0.0, 'are': 0.0, 'career': 0.0, 'novels': 0.0, 'planting': 0.0, 'bridge': 0.0, 'preparing': 0.0, 'attended': 0.0, 'was': 0.0, 'tree': 0.0, 'exhibits': 0.0, 'crashed': 0.0, 'night.': 0.0, 'concert': 0.0, 'storm.': 0.0, 'bright': 0.0, 'year.': 0.0, 'reserve': 0.0, 'tastes': 0.0, 'store': 0.0, 'delicious': 0.0, 'unwind.': 0.0, 'down': 0.0, 'business.': 0.0, 'birthday.': 0.0, 'grandmother.': 0.0, 'renovating': 0.0, 'packed': 0.0, 'shop': 0.0, 'colorful': 0.0, 'his': 0.0, 'blooming': 0.0, 'by': 0.0, 'sky': 0.0, 'warm': 0.0, 'landscape.': 0.0, 'schedule.': 0.0, 'sunset': 0.0, 'bookstore': 0.0, 'waterfall': 0.0, 'good': 0.0, 'neighborhood': 0.0, 'all': 0.0, 'swimming,': 0.0, 'predicts': 0.0, 'rush': 0.0, 'cause.': 0.0, 'opening': 0.0, 'weekend.': 0.0, 'recital': 0.0, 'deadline': 0.0, 'long': 0.0, 'both': 0.0, 'wash': 0.0, 'space.': 0.0, 'seasons.': 0.0, 'non-fiction.': 0.0, 'meet': 0.0, 'baking': 0.0, 'smoothly.': 0.0, 'climate': 0.0, 'photography': 0.0, 'of': 0.0, 'designing': 0.0, 'spectacular.': 0.0, 'cleanup': 0.0, 'color.': 0.0, 'flexibility.': 0.0, 'suitcase': 0.0, 'hills': 0.0, 'diverse': 0.0, 'were': 0.0, 'full': 0.0, 'sky.': 0.0, 'writing': 0.0, 'stars': 0.0, 'below.': 0.0, 'way': 0.0, 'city': 0.0, 'commuters': 0.0, 'repairing': 0.0, 'crowded': 0.0, 'money': 0.0, 'her': 0.0, 'its': 0.0, 'fragrance': 0.0, 'collection': 0.0, 'upcoming': 0.0, 'artist': 0.0, 'known': 0.0, 'sun': 0.0, 'airplane': 0.0, 'fitness': 0.0, 'books.': 0.0, 'thrilling,': 0.0, 'coding': 0.0, 'roof': 0.0, 'best': 0.0, 'quiet,': 0.0, 'fair.': 0.0, 'enhance': 0.0, 'paper.': 0.0, 'hot': 0.0, 'useful': 0.0, 'over': 0.0, 'glow.': 0.0, 'poem': 0.0, 'hosting': 0.0, 'yard.': 0.0, 'portrait': 0.0, 'project': 0.0, 'celebrations.': 0.0, 'night': 0.0, 'weather.': 0.0, 'behavior': 0.0, 'line.': 0.0, 'watching': 0.0, 'gently': 0.0, 'applauded.': 0.0, 'comforting': 0.0, 'cabin': 0.0, 'bustling': 0.0, 'battery': 0.0, 'downtown.': 0.0, 'showcasing': 0.0, 'hour.': 0.0, 'friend.': 0.0, 'pasta.': 0.0, 'fulfilling.': 0.0, 'finish': 0.0, 'train': 0.0, 'edge.': 0.0, 'audience': 0.0, 'sale': 0.0, 'variety': 0.0, 'machine': 0.0, 'includes': 0.0, 'mornings.': 0.0, 'guests.': 0.0, 'season.': 0.0, 'caps.': 0.0, 'triathlon': 0.0, 'swiftly': 0.0, 'in': 0.0, 'marine': 0.0, 'homemade': 0.0, 'famous': 0.0, 'chased': 0.0, 'event.': 0.0, 'backyard.': 0.0, 'efficient.': 0.0, 'gallery': 0.0, 'fast.': 0.0, 'running.': 0.0, 'bloom.': 0.0, 'fixed': 0.0, 'flowing': 0.0, 'things': 0.0, 'yoga': 0.0, 'python': 0.0, 'change': 0.0, 'reached': 0.0, 'tech': 0.0, 'has': 0.0, 'altitude': 0.0, 'place': 0.0, 'behind': 0.0, 'quiet': 0.0, 'class': 0.0, 'is': 0.0, 'teams': 0.0, 'barking': 0.0, 'painted': 0.0, 'modern': 0.0, 'cozy': 0.0, 'to': 0.0, 'friends': 0.0, 'tutor.': 0.0, 'logo': 0.0, 'cuisines.': 0.0, 'studying': 0.0, 'phone': 0.0, 'refreshing.': 0.0, 'make': 0.0, 'broken': 0.0, 'party': 0.0, 'music,': 0.0, 'butterflies': 0.0, 'swings': 0.0, 'flowers': 0.0, 'farmer': 0.0, 'casting': 0.0, 'book.': 0.0, 'trip.': 0.0, 'packing': 0.0, 'this': 0.0, 'breeze.': 0.0, 'bugs': 0.0, 'students': 0.0, 'brightly': 0.0, 'an': 0.0, 'practicing': 0.0, 'programming': 0.0, 'airport.': 0.0, 'wind': 0.0, 'novel': 0.0, 'project.': 0.0, 'international': 0.0, 'offers': 0.0, 'setting': 0.0, 'dog': 0.0, 'wedding.': 0.0, 'broke': 0.0, 'destination.': 0.0, 'guitar': 0.0, 'woman.': 0.0, 'several': 0.0, 'scheduled': 0.0, \"cousin's\": 0.0, 'recital.': 0.0, 'space': 0.0, 'stunning': 0.0, 'best.': 0.0, 'pastries.': 0.0, 'building': 0.0, 'needs': 0.0, 'job.': 0.0, 'meal': 0.0, 'niece.': 0.0, 'free': 0.0, 'release': 0.0, 'rocky': 0.0, 'today.': 0.0, 'many': 0.0, 'training': 0.0, 'arrived': 0.0, 'limits': 0.0, 'howling': 0.0, 'selection': 0.0, 'industry.': 0.0, 'dream': 0.0, 'day': 0.0, 'system.': 0.0, 'took': 0.0, 'town': 0.0, 'peaceful': 0.0, 'golden': 0.0, 'sunny': 0.0, 'due': 0.0, 'footage': 0.0, 'pouring': 0.0, 'mind.': 0.0, 'working': 0.0, 'french': 0.0, 'winter': 0.0, 'breathtaking': 0.0, 'digital': 0.0, 'station': 0.0, 'children.': 0.0, 'views': 0.0, 'helped': 0.0, 'breathtaking.': 0.0, 'more': 0.0, 'weather': 0.0, 'enjoys': 0.0, 'road': 0.0, 'rare': 0.0, 'excited': 0.0, 'calming': 0.0, 'sweater': 0.0, 'travel.': 0.0, 'pasta': 0.0, 'rejuvenated.': 0.0, 'cold': 0.0, 'summer.': 0.0, 'enjoy': 0.0, 'surrounding': 0.0, 'always': 0.0, 'app': 0.0, 'approaching': 0.0, 'he': 0.0, 'garden': 0.0, 'cookies': 0.0, 'piano': 0.0, 'too': 0.0, 'components.': 0.0, 'rain.': 0.0, 'industries.': 0.0, 'cultures.': 0.0, 'mountain': 0.0, 'experiences.': 0.0, 'beach': 0.0, 'business': 0.0, 'range': 0.0, 'performances.': 0.0, 'the': 0.0, 'clear': 0.0, 'tutorials.': 0.0, 'learning': 0.0, 'melodious': 0.0, 'software': 0.0, 'code': 0.0, 'techniques': 0.0, 'trip': 0.0, 'match': 0.0, 'hardware': 0.0, 'bread': 0.0, 'scarf': 0.0, 'skills.': 0.0, 'aerial': 0.0, 'cultural': 0.0, 'civilizations': 0.0, 'serves': 0.0, 'painting': 0.0, 'flowers.': 0.0, 'museum': 0.0, 'landed': 0.0, 'getting': 0.0, 'improvements': 0.0, 'attendees': 0.0, 'visible': 0.0, 'pushing': 0.0, 'repaired.': 0.0, 'freshly': 0.0, 'heavily': 0.0, 'and': 0.0, 'feel': 0.0, 'country.': 0.0, 'experience.': 0.0, 'tune': 0.0, 'drone': 0.0, 'mystery': 0.0, 'premiere': 0.0, 'cycling,': 0.0, 'low.': 0.0, 'slides.': 0.0, 'update': 0.0, 'deck': 0.0, 'next': 0.0, 'room': 0.0, 'driven': 0.0, 'presentation': 0.0, 'sunrise': 0.0, 'company.': 0.0, '30,000': 0.0, 'saving': 0.0, 'football': 0.0, 'celebrities.': 0.0, 'festival': 0.0, 'busy': 0.0, 'house': 0.0, 'computer': 0.0, 'runs': 0.0, 'nightlife.': 0.0, 'a': 0.0, 'artifacts': 0.0, 'featured': 0.0, 'breathing': 0.0, 'animal': 0.0, 'science': 0.0, 'endangered': 0.0, 'stormy': 0.0, 'day.': 0.0, 'coffee': 0.0, 'brightly.': 0.0, 'spare': 0.0, 'paintings.': 0.0, 'goals.': 0.0, 'movie': 0.0, 'i': 0.0, 'championship': 0.0, 'after': 0.0, 'as': 0.0, 'construction': 0.0, 'tail': 0.0, 'end': 0.0, 'cascades': 0.0, 'species.': 0.0, 'technology': 0.0, 'offering': 0.0, 'reading': 0.0, 'skyline': 0.0, 'shelter': 0.0, 'through': 0.0, 'against': 0.0, 'captured': 0.0, 'blog': 0.0, 'right': 0.0, 'trail': 0.0, 'sewing': 0.0, 'that': 0.0, 'it': 0.0, 'city.': 0.0, 'sells': 0.0, 'suspense.': 0.0, 'game.': 0.0, 'reviews.': 0.0, 'crops': 0.0, 'conference': 0.0, 'language': 0.0, 'about': 0.0, 'history': 0.0, 'landscapes': 0.0, 'baked': 0.0, 'community.': 0.0, 'world.': 0.0, 'work.': 0.0, 'holiday': 0.0, 'ahead': 0.0, 'features.': 0.0, 'waves': 0.0, 'workshop': 0.0, 'shore': 0.0, 'harvest': 0.0, 'drink': 0.0, 'bees.': 0.0, 'runners': 0.0, 'abstract': 0.0, 'hardcover': 0.0, 'from': 0.0, 'view': 0.0, 'flows': 0.0, 'countryside': 0.0, 'turbulence.': 0.0, 'organizing': 0.0, 'various': 0.0, 'auction': 0.0, 'ice': 0.0, 'cliff': 0.0, 'running': 0.0, 'forest': 0.0, 'community': 0.0, 'with': 0.0, 'surprise': 0.0, 'upgrading': 0.0, 'soccer': 0.0, 'around': 0.0, 'intriguing.': 0.0, 'travel': 0.0, 'relaxation.': 0.0, 'nature': 0.0, 'art': 0.0, 'python.': 0.0, 'music': 0.0, 'shining': 0.0, 'speech': 0.0, 'game': 0.0, 'models.': 0.0, 'effect': 0.0, 'planning': 0.0, 'enjoying': 0.0, 'picnic.': 0.0, 'dance': 0.0, 'skyscraper': 0.0, 'during': 0.0, 'polar': 0.0, 'finds': 0.0, 'amazing.': 0.0, 'every': 0.0, 'blue.': 0.0, 'fiction': 0.0, 'team': 0.0, 'own': 0.0, 'into': 0.0, 'food': 0.0, 'playing': 0.0, 'passing': 0.0, 'wildlife': 0.0, 'bakery': 0.0, 'parked': 0.0, 'smells': 0.0, 'dealership': 0.0, 'atmosphere,': 0.0, 'destination': 0.0, 'chef': 0.0, 'forecast': 0.0, 'quilt': 0.0, 'early.': 0.0, 'journey': 0.0, 'recipes': 0.0, 'brainstorming': 0.0, 'filled': 0.0, 'focuses': 0.0, 'beautiful': 0.0, 'book': 0.0, 'lessons': 0.0, 'discounts': 0.0, 'roses.': 0.0, 'she': 0.0, 'meeting.': 0.0, 'images': 0.0, 'river': 0.0, 'loudly': 0.0, 'relaxed': 0.0, 'mountains,': 0.0, 'electronics': 0.0, 'improve': 0.0, 'play.': 0.0, 'cake': 0.0, 'model': 0.0, 'travels': 0.0, 'volunteering': 0.0, 'quickly.': 0.0, 'transforming': 0.0, 'flying': 0.0, 'time': 0.0, 'cruising': 0.0, 'now.': 0.0, 'gift': 0.0, 'success,': 0.0, 'bird': 0.0, 'prepare': 0.0}\n"
          ]
        }
      ]
    },
    {
      "cell_type": "markdown",
      "source": [
        "# Task 5: Word2Vec Model Implementation\n",
        "Build a simple Word2Vec model using Gensim for a given corpus\n",
        "\n",
        "use gensi m.models\n",
        "### from gensim.models import Word2Vec"
      ],
      "metadata": {
        "id": "2cvBRib40Nxk"
      }
    },
    {
      "cell_type": "code",
      "source": [
        "from gensim.models import Word2Vec\n",
        "\n",
        "def read_corpus(filename):\n",
        "    with open(filename, 'r') as f:\n",
        "        content = f.read().lower()\n",
        "        sentences = content.split('. ')\n",
        "        tokenized_sentences = [sentence.split() for sentence in sentences if sentence]\n",
        "        return tokenized_sentences\n",
        "\n",
        "def train_word2vec(sentences):\n",
        "    model = Word2Vec(sentences, vector_size=50, window=5, min_count=1)\n",
        "    return model\n",
        "\n",
        "def explore_model(model):\n",
        "    print(\"Vector for 'car':\")\n",
        "    print(model.wv['car'])\n",
        "\n",
        "    print(\"\\nMost similar words to 'car':\")\n",
        "    print(model.wv.most_similar('car'))\n",
        "\n",
        "filename = 'datset.txt'\n",
        "sentences = read_corpus(filename)\n",
        "\n",
        "model = train_word2vec(sentences)\n",
        "\n",
        "explore_model(model)\n"
      ],
      "metadata": {
        "id": "24FO7cw30SR9",
        "outputId": "f90e3525-7b99-4a4b-b914-0c23cf706cb1",
        "colab": {
          "base_uri": "https://localhost:8080/"
        }
      },
      "execution_count": 10,
      "outputs": [
        {
          "output_type": "stream",
          "name": "stdout",
          "text": [
            "Vector for 'car':\n",
            "[-6.2789692e-04  1.3909686e-03 -1.3658030e-02  5.1096007e-03\n",
            " -4.1698324e-03  3.8797366e-03  1.2211216e-02 -9.3356794e-05\n",
            " -8.4986286e-03  1.4764344e-02  1.0723642e-02  1.1896982e-02\n",
            "  8.9222938e-03  1.6201288e-02  1.3497480e-02 -1.7707658e-03\n",
            "  1.9731827e-02  1.0337951e-02  7.3222485e-03 -5.1035830e-03\n",
            " -2.7140039e-03 -6.1729928e-03 -1.3300695e-02  6.2286849e-03\n",
            "  1.9564744e-02  1.9066224e-02 -5.3435699e-03  1.2281654e-02\n",
            "  4.1817403e-03 -8.7886471e-03  3.9139073e-03 -1.0632699e-02\n",
            "  1.7158762e-02  1.0093577e-02  4.0351283e-03  9.3076676e-03\n",
            "  1.9015599e-02  1.3732970e-02 -1.2057308e-03 -1.5911512e-02\n",
            "  1.8536422e-02  1.4409487e-02  2.1235095e-03 -3.0685693e-03\n",
            " -7.4846991e-03 -8.1663262e-03  1.6542181e-02 -7.9411743e-03\n",
            " -1.0800276e-02  2.0949097e-02]\n",
            "\n",
            "Most similar words to 'car':\n",
            "[('useful', 0.49448415637016296), ('sky.', 0.41240453720092773), ('known', 0.39266136288642883), ('diverse', 0.3710325360298157), ('flowers', 0.36098313331604004), ('community.', 0.3440743386745453), ('space.', 0.3403400182723999), ('hard', 0.3349008858203888), ('footage', 0.3288647532463074), ('research', 0.3233479857444763)]\n"
          ]
        }
      ]
    },
    {
      "cell_type": "markdown",
      "source": [
        "# Task 6: Sentence Matching Based on Given Dataset\n",
        "In this task, you will be given a large dataset of sentences (provided below). Your goal is to match a query with sentences from this dataset. You will implement a function to find sentences that contain specific words or phrases from a user query.\n",
        "## **Steps:**\n",
        "- **Data Acquisition:**Use the provided dataset of sentences.\n",
        "- **Text Preparation:** Clean the dataset (remove punctuation, convert to lowercase, etc.).\n",
        "- **Feature Engineering:** Use TF-IDF (Term Frequency-Inverse Document Frequency) to create numerical vectors for each sentence.\n",
        "- **Search:** Match the query against the sentence vectors using cosine similarity.\n",
        "**Return Matched Sentences:** Display the top matching sentences.\n",
        "\n",
        "## **Required Libraries:**\n",
        "- **NLTK** for text cleaning and preprocessing.\n",
        "- **TfidfVectorizer** from **scikit-learn** for converting text to vectors.\n",
        "- **Cosine Similarity** for finding similar sentences.\n"
      ],
      "metadata": {
        "id": "Ec5JKBzz0kGK"
      }
    },
    {
      "cell_type": "code",
      "source": [],
      "metadata": {
        "id": "COsgOnNd3h4w"
      },
      "execution_count": null,
      "outputs": []
    }
  ]
}